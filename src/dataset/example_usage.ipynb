{
 "cells": [
  {
   "cell_type": "markdown",
   "id": "e1491511-dd63-4e93-8532-0ef0bed3c1a4",
   "metadata": {},
   "source": [
    "# New JEPADataset (faster loading)"
   ]
  },
  {
   "cell_type": "code",
   "execution_count": 1,
   "id": "1f9439e7-2a84-4d45-be18-e1dc9b177c12",
   "metadata": {
    "execution": {
     "iopub.execute_input": "2024-08-29T23:39:40.584901Z",
     "iopub.status.busy": "2024-08-29T23:39:40.584818Z",
     "iopub.status.idle": "2024-08-29T23:39:41.645008Z",
     "shell.execute_reply": "2024-08-29T23:39:41.644428Z",
     "shell.execute_reply.started": "2024-08-29T23:39:40.584891Z"
    }
   },
   "outputs": [],
   "source": [
    "from torch.utils.data import Dataset, DataLoader\n",
    "import torch\n",
    "import h5py\n",
    "from JEPADataset import JEPADataset"
   ]
  },
  {
   "cell_type": "code",
   "execution_count": 6,
   "id": "d0808233-8b52-498d-9afc-c969f61b3774",
   "metadata": {
    "execution": {
     "iopub.execute_input": "2024-08-29T23:40:12.670951Z",
     "iopub.status.busy": "2024-08-29T23:40:12.670697Z",
     "iopub.status.idle": "2024-08-29T23:40:13.361279Z",
     "shell.execute_reply": "2024-08-29T23:40:13.360821Z",
     "shell.execute_reply.started": "2024-08-29T23:40:12.670938Z"
    }
   },
   "outputs": [
    {
     "name": "stdout",
     "output_type": "stream",
     "text": [
      "Loading file from ../../data/train/processed_train_20_30_torch.h5\n",
      "number of jets: 10000\n"
     ]
    }
   ],
   "source": [
    "tag = 'train'\n",
    "dataset_path = f\"../../data/{tag}/processed_{tag}_20_30_torch.h5\"\n",
    "dataset = JEPADataset(dataset_path, num_jets=10000)"
   ]
  },
  {
   "cell_type": "code",
   "execution_count": 7,
   "id": "ea35710d-b91c-46f7-8baf-dfecbd74bf6d",
   "metadata": {
    "execution": {
     "iopub.execute_input": "2024-08-29T23:40:21.576457Z",
     "iopub.status.busy": "2024-08-29T23:40:21.576196Z",
     "iopub.status.idle": "2024-08-29T23:40:21.693402Z",
     "shell.execute_reply": "2024-08-29T23:40:21.692966Z",
     "shell.execute_reply.started": "2024-08-29T23:40:21.576444Z"
    }
   },
   "outputs": [],
   "source": [
    "train_loader = DataLoader(dataset, batch_size=100, shuffle=True)\n",
    "train_iter = iter(train_loader)\n",
    "for i in range(len(dataset) // 100):\n",
    "    x, particle_features, subjets, particle_indices, subjet_mask, particle_mask = next(train_iter)"
   ]
  },
  {
   "cell_type": "code",
   "execution_count": 8,
   "id": "f495b1c7-8364-41c4-87c4-0202dd9a4d88",
   "metadata": {
    "execution": {
     "iopub.execute_input": "2024-08-29T23:40:24.541224Z",
     "iopub.status.busy": "2024-08-29T23:40:24.540960Z",
     "iopub.status.idle": "2024-08-29T23:40:24.544085Z",
     "shell.execute_reply": "2024-08-29T23:40:24.543760Z",
     "shell.execute_reply.started": "2024-08-29T23:40:24.541211Z"
    }
   },
   "outputs": [
    {
     "name": "stdout",
     "output_type": "stream",
     "text": [
      "x torch.Size([100, 20, 30, 4])\n",
      "particle features torch.Size([100, 128, 4])\n",
      "subjets torch.Size([100, 20, 5])\n",
      "particle indices torch.Size([100, 20, 30])\n",
      "subjet_mask torch.Size([100, 20])\n",
      "particle_mask torch.Size([100, 20, 30])\n"
     ]
    }
   ],
   "source": [
    "print(\"x\", x.shape) #(batch_size, N_subjets, N_part, N_part_ftr), dim 3 ordering: ['part_deta', 'part_dphi', 'part_pt_log', 'part_e_log']\n",
    "print(\"particle features\", particle_features.shape)\n",
    "print(\"subjets\", subjets.shape) # dim 2 ordering: ['subjet_pt', 'subjet_eta', 'subjet_phi', 'subjet_E, 'subjet_num_ptcls']\n",
    "print(\"particle indices\", particle_indices.shape)\n",
    "print(\"subjet_mask\", subjet_mask.shape)\n",
    "print(\"particle_mask\", particle_mask.shape)"
   ]
  },
  {
   "cell_type": "code",
   "execution_count": 9,
   "id": "ce7e6e4b-2712-4234-a05b-11a323200a17",
   "metadata": {
    "execution": {
     "iopub.execute_input": "2024-08-29T23:40:25.493837Z",
     "iopub.status.busy": "2024-08-29T23:40:25.493623Z",
     "iopub.status.idle": "2024-08-29T23:40:25.496668Z",
     "shell.execute_reply": "2024-08-29T23:40:25.496335Z",
     "shell.execute_reply.started": "2024-08-29T23:40:25.493825Z"
    }
   },
   "outputs": [
    {
     "name": "stdout",
     "output_type": "stream",
     "text": [
      "x torch.float32\n",
      "particle features torch.float64\n",
      "subjets torch.float64\n",
      "particle indices torch.int32\n",
      "subjet_mask torch.bool\n",
      "particle_mask torch.bool\n"
     ]
    }
   ],
   "source": [
    "print(\"x\", x.dtype) #(batch_size, N_subjets, N_part, N_part_ftr), dim 3 ordering: ['part_deta', 'part_dphi', 'part_pt_log', 'part_e_log']\n",
    "print(\"particle features\", particle_features.dtype)\n",
    "print(\"subjets\", subjets.dtype) # dim 2 ordering: ['subjet_pt', 'subjet_eta', 'subjet_phi', 'subjet_E, 'subjet_num_ptcls']\n",
    "print(\"particle indices\", particle_indices.dtype)\n",
    "print(\"subjet_mask\", subjet_mask.dtype)\n",
    "print(\"particle_mask\", particle_mask.dtype)"
   ]
  },
  {
   "cell_type": "markdown",
   "id": "f557b70c-e209-462a-9061-e1c675891a76",
   "metadata": {},
   "source": [
    "# Old dataset (data loading is slow)"
   ]
  },
  {
   "cell_type": "code",
   "execution_count": 1,
   "id": "69550796-fda5-4f41-a226-c5fe8c204c8b",
   "metadata": {
    "execution": {
     "iopub.execute_input": "2024-08-30T19:11:31.051213Z",
     "iopub.status.busy": "2024-08-30T19:11:31.050942Z",
     "iopub.status.idle": "2024-08-30T19:11:37.273266Z",
     "shell.execute_reply": "2024-08-30T19:11:37.272799Z",
     "shell.execute_reply.started": "2024-08-30T19:11:31.051197Z"
    }
   },
   "outputs": [
    {
     "name": "stdout",
     "output_type": "stream",
     "text": [
      "Initializing JetDataset with file: ../../data/val/val_20_30_new.h5\n",
      "Loading features and subjets from HDF5 file\n",
      "Filtered to 261239 good jets\n",
      "Final dataset size: 10000 jets\n",
      "__getitem__ returns (x, particle_features, subjets, indices, subjet_mask, particle_mask, labels)\n"
     ]
    }
   ],
   "source": [
    "from torch.utils.data import Dataset, DataLoader\n",
    "import torch\n",
    "import h5py\n",
    "from JetDataset import JetDataset\n",
    "tag = 'val'\n",
    "train_dataset = JetDataset(f\"../../data/{tag}/{tag}_20_30_new.h5\", num_jets=10000, config=None, labels=True)"
   ]
  },
  {
   "cell_type": "code",
   "execution_count": 2,
   "id": "ace7302a-7018-44fd-8421-8aeb0ebf3b35",
   "metadata": {
    "execution": {
     "iopub.execute_input": "2024-08-30T19:11:38.996866Z",
     "iopub.status.busy": "2024-08-30T19:11:38.996499Z",
     "iopub.status.idle": "2024-08-30T19:11:39.031585Z",
     "shell.execute_reply": "2024-08-30T19:11:39.031119Z",
     "shell.execute_reply.started": "2024-08-30T19:11:38.996847Z"
    }
   },
   "outputs": [],
   "source": [
    "train_loader = DataLoader(train_dataset, batch_size=100, shuffle=True)\n",
    "train_iter = iter(train_loader)\n",
    "x, particle_features, subjets, particle_indices, subjet_mask, particle_mask, labels = next(train_iter)"
   ]
  },
  {
   "cell_type": "code",
   "execution_count": 3,
   "id": "20b40117-8be0-4d39-89d9-29804b15d9ed",
   "metadata": {
    "execution": {
     "iopub.execute_input": "2024-08-30T19:11:43.848547Z",
     "iopub.status.busy": "2024-08-30T19:11:43.848233Z",
     "iopub.status.idle": "2024-08-30T19:11:43.851818Z",
     "shell.execute_reply": "2024-08-30T19:11:43.851412Z",
     "shell.execute_reply.started": "2024-08-30T19:11:43.848530Z"
    }
   },
   "outputs": [
    {
     "name": "stdout",
     "output_type": "stream",
     "text": [
      "x torch.Size([100, 20, 30, 4])\n",
      "particle features torch.Size([100, 128, 4])\n",
      "subjets torch.Size([100, 20, 5])\n",
      "particle indices torch.Size([100, 20, 30])\n",
      "subjet_mask torch.Size([100, 20])\n",
      "particle_mask torch.Size([100, 20, 30])\n",
      "labels torch.Size([100])\n"
     ]
    }
   ],
   "source": [
    "print(\"x\", x.shape) #(batch_size, N_subjets, N_part, N_part_ftr), dim 3 ordering: ['part_deta', 'part_dphi', 'part_pt_log', 'part_e_log']\n",
    "print(\"particle features\", particle_features.shape)\n",
    "print(\"subjets\", subjets.shape) # dim 2 ordering: ['subjet_pt', 'subjet_eta', 'subjet_phi', 'subjet_E, 'subjet_num_ptcls']\n",
    "print(\"particle indices\", particle_indices.shape)\n",
    "print(\"subjet_mask\", subjet_mask.shape)\n",
    "print(\"particle_mask\", particle_mask.shape)\n",
    "print(\"labels\", labels.shape)"
   ]
  },
  {
   "cell_type": "code",
   "execution_count": 4,
   "id": "c22ba947-abaf-4704-875b-31d1a4dca84c",
   "metadata": {
    "execution": {
     "iopub.execute_input": "2024-08-30T19:15:06.996259Z",
     "iopub.status.busy": "2024-08-30T19:15:06.995992Z",
     "iopub.status.idle": "2024-08-30T19:15:06.999635Z",
     "shell.execute_reply": "2024-08-30T19:15:06.999175Z",
     "shell.execute_reply.started": "2024-08-30T19:15:06.996240Z"
    }
   },
   "outputs": [
    {
     "name": "stdout",
     "output_type": "stream",
     "text": [
      "x torch.float32\n",
      "particle features torch.float64\n",
      "subjets torch.float64\n",
      "particle indices torch.float64\n",
      "subjet_mask torch.float32\n",
      "particle_mask torch.float32\n",
      "labels torch.int64\n"
     ]
    }
   ],
   "source": [
    "print(\"x\", x.dtype) #(batch_size, N_subjets, N_part, N_part_ftr), dim 3 ordering: ['part_deta', 'part_dphi', 'part_pt_log', 'part_e_log']\n",
    "print(\"particle features\", particle_features.dtype)\n",
    "print(\"subjets\", subjets.dtype) # dim 2 ordering: ['subjet_pt', 'subjet_eta', 'subjet_phi', 'subjet_E, 'subjet_num_ptcls']\n",
    "print(\"particle indices\", particle_indices.dtype)\n",
    "print(\"subjet_mask\", subjet_mask.dtype)\n",
    "print(\"particle_mask\", particle_mask.dtype)\n",
    "print(\"labels\", labels.dtype)"
   ]
  },
  {
   "cell_type": "code",
   "execution_count": null,
   "id": "a599fe65-1232-4c10-9120-8bd756822ed9",
   "metadata": {
    "execution": {
     "iopub.status.busy": "2024-08-29T23:39:42.003184Z",
     "iopub.status.idle": "2024-08-29T23:39:42.003283Z",
     "shell.execute_reply": "2024-08-29T23:39:42.003236Z",
     "shell.execute_reply.started": "2024-08-29T23:39:42.003232Z"
    }
   },
   "outputs": [],
   "source": [
    "particle_indices.to(torch.int32)"
   ]
  },
  {
   "cell_type": "markdown",
   "id": "1bd6ddfd-9e65-4780-b48c-8bdcbf069ec2",
   "metadata": {},
   "source": [
    "## Check to see if x was constructed correctly"
   ]
  },
  {
   "cell_type": "code",
   "execution_count": null,
   "id": "ea465ee2-a8e6-49af-9dc2-656e2c34829e",
   "metadata": {
    "execution": {
     "iopub.status.busy": "2024-08-29T23:39:42.003637Z",
     "iopub.status.idle": "2024-08-29T23:39:42.003741Z",
     "shell.execute_reply": "2024-08-29T23:39:42.003693Z",
     "shell.execute_reply.started": "2024-08-29T23:39:42.003688Z"
    }
   },
   "outputs": [],
   "source": [
    "for jet_idx in range(10):\n",
    "    for subjet_idx in range(20):\n",
    "        num_real_ptcls = int(subjets[jet_idx, subjet_idx, -1])\n",
    "        particle_features_at_subjet_idx = torch.zeros((30, 4))\n",
    "        real_indices = particle_indices[jet_idx, subjet_idx].long()[:num_real_ptcls]\n",
    "        particle_features_at_subjet_idx[:num_real_ptcls, :] = particle_features[jet_idx, real_indices, :]\n",
    "        print((particle_features_at_subjet_idx == x[jet_idx, subjet_idx]).all())"
   ]
  },
  {
   "cell_type": "code",
   "execution_count": null,
   "id": "86ce2493-1032-480d-be42-1e61b2f4cb83",
   "metadata": {
    "execution": {
     "iopub.status.busy": "2024-08-29T23:39:42.004091Z",
     "iopub.status.idle": "2024-08-29T23:39:42.004187Z",
     "shell.execute_reply": "2024-08-29T23:39:42.004142Z",
     "shell.execute_reply.started": "2024-08-29T23:39:42.004138Z"
    }
   },
   "outputs": [],
   "source": [
    "particle_indices[0, subjet_idx]"
   ]
  },
  {
   "cell_type": "code",
   "execution_count": null,
   "id": "948ad7e1-e690-4c2f-b7bf-837054dbfe09",
   "metadata": {
    "execution": {
     "iopub.status.busy": "2024-08-29T23:39:42.004599Z",
     "iopub.status.idle": "2024-08-29T23:39:42.004697Z",
     "shell.execute_reply": "2024-08-29T23:39:42.004650Z",
     "shell.execute_reply.started": "2024-08-29T23:39:42.004646Z"
    }
   },
   "outputs": [],
   "source": [
    "particle_features_at_subjet_idx.shape"
   ]
  },
  {
   "cell_type": "code",
   "execution_count": null,
   "id": "6d57ad76-66bf-46ed-89f8-e4bb79152cd0",
   "metadata": {
    "execution": {
     "iopub.status.busy": "2024-08-29T23:39:42.005031Z",
     "iopub.status.idle": "2024-08-29T23:39:42.005127Z",
     "shell.execute_reply": "2024-08-29T23:39:42.005084Z",
     "shell.execute_reply.started": "2024-08-29T23:39:42.005079Z"
    }
   },
   "outputs": [],
   "source": [
    "particle_features_at_subjet_idx == x[0, subjet_idx]"
   ]
  },
  {
   "cell_type": "code",
   "execution_count": null,
   "id": "6eac35c9-eae6-4d1e-825a-43acb99863ce",
   "metadata": {
    "execution": {
     "iopub.status.busy": "2024-08-29T23:39:42.005603Z",
     "iopub.status.idle": "2024-08-29T23:39:42.005704Z",
     "shell.execute_reply": "2024-08-29T23:39:42.005656Z",
     "shell.execute_reply.started": "2024-08-29T23:39:42.005651Z"
    }
   },
   "outputs": [],
   "source": [
    "x[0, 0]"
   ]
  },
  {
   "cell_type": "code",
   "execution_count": null,
   "id": "530001d1-2d22-4fda-801a-c24992d1d405",
   "metadata": {
    "execution": {
     "iopub.status.busy": "2024-08-29T23:39:42.006029Z",
     "iopub.status.idle": "2024-08-29T23:39:42.006124Z",
     "shell.execute_reply": "2024-08-29T23:39:42.006079Z",
     "shell.execute_reply.started": "2024-08-29T23:39:42.006075Z"
    }
   },
   "outputs": [],
   "source": [
    "jet_idx = 1\n",
    "subjet_idx = 1\n",
    "num_real_ptcls = int(subjets[jet_idx, subjet_idx, -1])\n",
    "particle_features_at_subjet_idx = torch.zeros((30, 4))\n",
    "particle_features_at_subjet_idx[:num_real_ptcls] = particle_features[jet_idx, particle_indices[jet_idx, subjet_idx].long()[:num_real_ptcls], :]\n",
    "particle_features_at_subjet_idx"
   ]
  },
  {
   "cell_type": "code",
   "execution_count": null,
   "id": "bcddcd0b-76f5-4447-be15-2e0ac857b78a",
   "metadata": {
    "execution": {
     "iopub.status.busy": "2024-08-29T23:39:42.006488Z",
     "iopub.status.idle": "2024-08-29T23:39:42.006590Z",
     "shell.execute_reply": "2024-08-29T23:39:42.006543Z",
     "shell.execute_reply.started": "2024-08-29T23:39:42.006538Z"
    }
   },
   "outputs": [],
   "source": [
    "x[jet_idx, subjet_idx]"
   ]
  },
  {
   "cell_type": "code",
   "execution_count": null,
   "id": "9dbd358d-6797-45d1-8039-0576e7432c4e",
   "metadata": {
    "execution": {
     "iopub.status.busy": "2024-08-29T23:39:42.006997Z",
     "iopub.status.idle": "2024-08-29T23:39:42.007095Z",
     "shell.execute_reply": "2024-08-29T23:39:42.007050Z",
     "shell.execute_reply.started": "2024-08-29T23:39:42.007045Z"
    }
   },
   "outputs": [],
   "source": [
    "subjets[jet_idx, subjet_idx, -1]"
   ]
  },
  {
   "cell_type": "code",
   "execution_count": null,
   "id": "f778a8a4-6c80-40cf-b1ae-398e73c1fc41",
   "metadata": {},
   "outputs": [],
   "source": []
  }
 ],
 "metadata": {
  "kernelspec": {
   "display_name": "Python 3 (ipykernel)",
   "language": "python",
   "name": "python3"
  },
  "language_info": {
   "codemirror_mode": {
    "name": "ipython",
    "version": 3
   },
   "file_extension": ".py",
   "mimetype": "text/x-python",
   "name": "python",
   "nbconvert_exporter": "python",
   "pygments_lexer": "ipython3",
   "version": "3.11.5"
  }
 },
 "nbformat": 4,
 "nbformat_minor": 5
}
