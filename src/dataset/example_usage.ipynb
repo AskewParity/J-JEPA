{
 "cells": [
  {
   "cell_type": "code",
   "execution_count": 1,
   "id": "64fedc9f-7155-40ae-b5a2-9d2e643039b3",
   "metadata": {
    "execution": {
     "iopub.execute_input": "2024-08-29T16:47:27.978539Z",
     "iopub.status.busy": "2024-08-29T16:47:27.978452Z",
     "iopub.status.idle": "2024-08-29T16:47:29.303420Z",
     "shell.execute_reply": "2024-08-29T16:47:29.303084Z",
     "shell.execute_reply.started": "2024-08-29T16:47:27.978528Z"
    }
   },
   "outputs": [],
   "source": [
    "import random\n",
    "from JetDataset import JetDataset\n",
    "import torch\n",
    "from torch.utils.data import Dataset, DataLoader"
   ]
  },
  {
   "cell_type": "code",
   "execution_count": 18,
   "id": "69550796-fda5-4f41-a226-c5fe8c204c8b",
   "metadata": {
    "execution": {
     "iopub.execute_input": "2024-08-29T16:58:30.903361Z",
     "iopub.status.busy": "2024-08-29T16:58:30.903130Z",
     "iopub.status.idle": "2024-08-29T16:58:34.891849Z",
     "shell.execute_reply": "2024-08-29T16:58:34.891402Z",
     "shell.execute_reply.started": "2024-08-29T16:58:30.903349Z"
    }
   },
   "outputs": [
    {
     "name": "stdout",
     "output_type": "stream",
     "text": [
      "Initializing JetDataset with file: ../../data/val/val_20_30_new.h5\n",
      "Loading features and subjets from HDF5 file\n",
      "Filtered to 261239 good jets\n",
      "Final dataset size: 261239 jets\n"
     ]
    }
   ],
   "source": [
    "train_dataset = JetDataset(\"../../data/val/val_20_30_new.h5\", config=None)"
   ]
  },
  {
   "cell_type": "code",
   "execution_count": 20,
   "id": "ace7302a-7018-44fd-8421-8aeb0ebf3b35",
   "metadata": {
    "execution": {
     "iopub.execute_input": "2024-08-29T16:58:42.207768Z",
     "iopub.status.busy": "2024-08-29T16:58:42.207470Z",
     "iopub.status.idle": "2024-08-29T16:58:44.369120Z",
     "shell.execute_reply": "2024-08-29T16:58:44.368292Z",
     "shell.execute_reply.started": "2024-08-29T16:58:42.207755Z"
    }
   },
   "outputs": [
    {
     "ename": "IndexError",
     "evalue": "index 128 is out of bounds for dimension 0 with size 128",
     "output_type": "error",
     "traceback": [
      "\u001b[0;31m---------------------------------------------------------------------------\u001b[0m",
      "\u001b[0;31mIndexError\u001b[0m                                Traceback (most recent call last)",
      "Cell \u001b[0;32mIn[20], line 4\u001b[0m\n\u001b[1;32m      2\u001b[0m train_iter \u001b[38;5;241m=\u001b[39m \u001b[38;5;28miter\u001b[39m(train_loader)\n\u001b[1;32m      3\u001b[0m \u001b[38;5;28;01mwhile\u001b[39;00m \u001b[38;5;28;01mTrue\u001b[39;00m:\n\u001b[0;32m----> 4\u001b[0m     x, particle_features, subjets, particle_indices, subjet_mask, particle_mask \u001b[38;5;241m=\u001b[39m \u001b[38;5;28mnext\u001b[39m(train_iter)\n",
      "File \u001b[0;32m/opt/conda/lib/python3.11/site-packages/torch/utils/data/dataloader.py:634\u001b[0m, in \u001b[0;36m_BaseDataLoaderIter.__next__\u001b[0;34m(self)\u001b[0m\n\u001b[1;32m    631\u001b[0m \u001b[38;5;28;01mif\u001b[39;00m \u001b[38;5;28mself\u001b[39m\u001b[38;5;241m.\u001b[39m_sampler_iter \u001b[38;5;129;01mis\u001b[39;00m \u001b[38;5;28;01mNone\u001b[39;00m:\n\u001b[1;32m    632\u001b[0m     \u001b[38;5;66;03m# TODO(https://github.com/pytorch/pytorch/issues/76750)\u001b[39;00m\n\u001b[1;32m    633\u001b[0m     \u001b[38;5;28mself\u001b[39m\u001b[38;5;241m.\u001b[39m_reset()  \u001b[38;5;66;03m# type: ignore[call-arg]\u001b[39;00m\n\u001b[0;32m--> 634\u001b[0m data \u001b[38;5;241m=\u001b[39m \u001b[38;5;28;43mself\u001b[39;49m\u001b[38;5;241;43m.\u001b[39;49m\u001b[43m_next_data\u001b[49m\u001b[43m(\u001b[49m\u001b[43m)\u001b[49m\n\u001b[1;32m    635\u001b[0m \u001b[38;5;28mself\u001b[39m\u001b[38;5;241m.\u001b[39m_num_yielded \u001b[38;5;241m+\u001b[39m\u001b[38;5;241m=\u001b[39m \u001b[38;5;241m1\u001b[39m\n\u001b[1;32m    636\u001b[0m \u001b[38;5;28;01mif\u001b[39;00m \u001b[38;5;28mself\u001b[39m\u001b[38;5;241m.\u001b[39m_dataset_kind \u001b[38;5;241m==\u001b[39m _DatasetKind\u001b[38;5;241m.\u001b[39mIterable \u001b[38;5;129;01mand\u001b[39;00m \\\n\u001b[1;32m    637\u001b[0m         \u001b[38;5;28mself\u001b[39m\u001b[38;5;241m.\u001b[39m_IterableDataset_len_called \u001b[38;5;129;01mis\u001b[39;00m \u001b[38;5;129;01mnot\u001b[39;00m \u001b[38;5;28;01mNone\u001b[39;00m \u001b[38;5;129;01mand\u001b[39;00m \\\n\u001b[1;32m    638\u001b[0m         \u001b[38;5;28mself\u001b[39m\u001b[38;5;241m.\u001b[39m_num_yielded \u001b[38;5;241m>\u001b[39m \u001b[38;5;28mself\u001b[39m\u001b[38;5;241m.\u001b[39m_IterableDataset_len_called:\n",
      "File \u001b[0;32m/opt/conda/lib/python3.11/site-packages/torch/utils/data/dataloader.py:678\u001b[0m, in \u001b[0;36m_SingleProcessDataLoaderIter._next_data\u001b[0;34m(self)\u001b[0m\n\u001b[1;32m    676\u001b[0m \u001b[38;5;28;01mdef\u001b[39;00m \u001b[38;5;21m_next_data\u001b[39m(\u001b[38;5;28mself\u001b[39m):\n\u001b[1;32m    677\u001b[0m     index \u001b[38;5;241m=\u001b[39m \u001b[38;5;28mself\u001b[39m\u001b[38;5;241m.\u001b[39m_next_index()  \u001b[38;5;66;03m# may raise StopIteration\u001b[39;00m\n\u001b[0;32m--> 678\u001b[0m     data \u001b[38;5;241m=\u001b[39m \u001b[38;5;28;43mself\u001b[39;49m\u001b[38;5;241;43m.\u001b[39;49m\u001b[43m_dataset_fetcher\u001b[49m\u001b[38;5;241;43m.\u001b[39;49m\u001b[43mfetch\u001b[49m\u001b[43m(\u001b[49m\u001b[43mindex\u001b[49m\u001b[43m)\u001b[49m  \u001b[38;5;66;03m# may raise StopIteration\u001b[39;00m\n\u001b[1;32m    679\u001b[0m     \u001b[38;5;28;01mif\u001b[39;00m \u001b[38;5;28mself\u001b[39m\u001b[38;5;241m.\u001b[39m_pin_memory:\n\u001b[1;32m    680\u001b[0m         data \u001b[38;5;241m=\u001b[39m _utils\u001b[38;5;241m.\u001b[39mpin_memory\u001b[38;5;241m.\u001b[39mpin_memory(data, \u001b[38;5;28mself\u001b[39m\u001b[38;5;241m.\u001b[39m_pin_memory_device)\n",
      "File \u001b[0;32m/opt/conda/lib/python3.11/site-packages/torch/utils/data/_utils/fetch.py:51\u001b[0m, in \u001b[0;36m_MapDatasetFetcher.fetch\u001b[0;34m(self, possibly_batched_index)\u001b[0m\n\u001b[1;32m     49\u001b[0m         data \u001b[38;5;241m=\u001b[39m \u001b[38;5;28mself\u001b[39m\u001b[38;5;241m.\u001b[39mdataset\u001b[38;5;241m.\u001b[39m__getitems__(possibly_batched_index)\n\u001b[1;32m     50\u001b[0m     \u001b[38;5;28;01melse\u001b[39;00m:\n\u001b[0;32m---> 51\u001b[0m         data \u001b[38;5;241m=\u001b[39m \u001b[43m[\u001b[49m\u001b[38;5;28;43mself\u001b[39;49m\u001b[38;5;241;43m.\u001b[39;49m\u001b[43mdataset\u001b[49m\u001b[43m[\u001b[49m\u001b[43midx\u001b[49m\u001b[43m]\u001b[49m\u001b[43m \u001b[49m\u001b[38;5;28;43;01mfor\u001b[39;49;00m\u001b[43m \u001b[49m\u001b[43midx\u001b[49m\u001b[43m \u001b[49m\u001b[38;5;129;43;01min\u001b[39;49;00m\u001b[43m \u001b[49m\u001b[43mpossibly_batched_index\u001b[49m\u001b[43m]\u001b[49m\n\u001b[1;32m     52\u001b[0m \u001b[38;5;28;01melse\u001b[39;00m:\n\u001b[1;32m     53\u001b[0m     data \u001b[38;5;241m=\u001b[39m \u001b[38;5;28mself\u001b[39m\u001b[38;5;241m.\u001b[39mdataset[possibly_batched_index]\n",
      "File \u001b[0;32m/opt/conda/lib/python3.11/site-packages/torch/utils/data/_utils/fetch.py:51\u001b[0m, in \u001b[0;36m<listcomp>\u001b[0;34m(.0)\u001b[0m\n\u001b[1;32m     49\u001b[0m         data \u001b[38;5;241m=\u001b[39m \u001b[38;5;28mself\u001b[39m\u001b[38;5;241m.\u001b[39mdataset\u001b[38;5;241m.\u001b[39m__getitems__(possibly_batched_index)\n\u001b[1;32m     50\u001b[0m     \u001b[38;5;28;01melse\u001b[39;00m:\n\u001b[0;32m---> 51\u001b[0m         data \u001b[38;5;241m=\u001b[39m [\u001b[38;5;28;43mself\u001b[39;49m\u001b[38;5;241;43m.\u001b[39;49m\u001b[43mdataset\u001b[49m\u001b[43m[\u001b[49m\u001b[43midx\u001b[49m\u001b[43m]\u001b[49m \u001b[38;5;28;01mfor\u001b[39;00m idx \u001b[38;5;129;01min\u001b[39;00m possibly_batched_index]\n\u001b[1;32m     52\u001b[0m \u001b[38;5;28;01melse\u001b[39;00m:\n\u001b[1;32m     53\u001b[0m     data \u001b[38;5;241m=\u001b[39m \u001b[38;5;28mself\u001b[39m\u001b[38;5;241m.\u001b[39mdataset[possibly_batched_index]\n",
      "File \u001b[0;32m/ssl-jet-vol-v3/I-JEPA-Jets/src/dataset/JetDataset.py:237\u001b[0m, in \u001b[0;36mJetDataset.__getitem__\u001b[0;34m(self, idx)\u001b[0m\n\u001b[1;32m    235\u001b[0m \u001b[38;5;66;03m# Gather indices within bounds\u001b[39;00m\n\u001b[1;32m    236\u001b[0m all_real_indices \u001b[38;5;241m=\u001b[39m indices[:, :N_part_per_subjet]\u001b[38;5;241m.\u001b[39mlong()\n\u001b[0;32m--> 237\u001b[0m valid_features \u001b[38;5;241m=\u001b[39m particle_features[all_real_indices[all_real_indices \u001b[38;5;241m<\u001b[39m N_part_per_jet]]\n\u001b[1;32m    239\u001b[0m \u001b[38;5;66;03m# Expand mask to feature dimensions\u001b[39;00m\n\u001b[1;32m    240\u001b[0m expanded_mask \u001b[38;5;241m=\u001b[39m mask\u001b[38;5;241m.\u001b[39munsqueeze(\u001b[38;5;241m-\u001b[39m\u001b[38;5;241m1\u001b[39m)\u001b[38;5;241m.\u001b[39mexpand(\u001b[38;5;241m-\u001b[39m\u001b[38;5;241m1\u001b[39m, \u001b[38;5;241m-\u001b[39m\u001b[38;5;241m1\u001b[39m, N_part_ftr)\n",
      "\u001b[0;31mIndexError\u001b[0m: index 128 is out of bounds for dimension 0 with size 128"
     ]
    }
   ],
   "source": [
    "train_loader = DataLoader(train_dataset, batch_size=1000, shuffle=True)\n",
    "train_iter = iter(train_loader)\n",
    "while True:\n",
    "    x, particle_features, subjets, particle_indices, subjet_mask, particle_mask = next(train_iter)"
   ]
  },
  {
   "cell_type": "code",
   "execution_count": 17,
   "id": "20b40117-8be0-4d39-89d9-29804b15d9ed",
   "metadata": {
    "execution": {
     "iopub.execute_input": "2024-08-29T16:50:53.099767Z",
     "iopub.status.busy": "2024-08-29T16:50:53.099456Z",
     "iopub.status.idle": "2024-08-29T16:50:53.102530Z",
     "shell.execute_reply": "2024-08-29T16:50:53.102269Z",
     "shell.execute_reply.started": "2024-08-29T16:50:53.099753Z"
    }
   },
   "outputs": [
    {
     "name": "stdout",
     "output_type": "stream",
     "text": [
      "x torch.Size([100, 20, 30, 4])\n",
      "particle features torch.Size([100, 128, 4])\n",
      "subjets torch.Size([100, 20, 5])\n",
      "particle indices torch.Size([100, 20, 30])\n",
      "subjet_mask torch.Size([100, 20])\n",
      "particle_mask torch.Size([100, 20, 30])\n"
     ]
    }
   ],
   "source": [
    "print(\"x\", x.shape) #(batch_size, N_subjets, N_part, N_part_ftr), dim 3 ordering: ['part_deta', 'part_dphi', 'part_pt_log', 'part_e_log']\n",
    "print(\"particle features\", particle_features.shape)\n",
    "print(\"subjets\", subjets.shape) # dim 2 ordering: ['subjet_pt', 'subjet_eta', 'subjet_phi', 'subjet_E, 'subjet_num_ptcls']\n",
    "print(\"particle indices\", particle_indices.shape)\n",
    "print(\"subjet_mask\", subjet_mask.shape)\n",
    "print(\"particle_mask\", particle_mask.shape)"
   ]
  },
  {
   "cell_type": "markdown",
   "id": "1bd6ddfd-9e65-4780-b48c-8bdcbf069ec2",
   "metadata": {},
   "source": [
    "## Check to see if x was constructed correctly"
   ]
  },
  {
   "cell_type": "code",
   "execution_count": 5,
   "id": "ea465ee2-a8e6-49af-9dc2-656e2c34829e",
   "metadata": {
    "execution": {
     "iopub.execute_input": "2024-08-29T16:47:32.514377Z",
     "iopub.status.busy": "2024-08-29T16:47:32.514283Z",
     "iopub.status.idle": "2024-08-29T16:47:32.526674Z",
     "shell.execute_reply": "2024-08-29T16:47:32.526437Z",
     "shell.execute_reply.started": "2024-08-29T16:47:32.514369Z"
    }
   },
   "outputs": [
    {
     "name": "stdout",
     "output_type": "stream",
     "text": [
      "tensor(True)\n",
      "tensor(True)\n",
      "tensor(True)\n",
      "tensor(True)\n",
      "tensor(True)\n",
      "tensor(True)\n",
      "tensor(True)\n",
      "tensor(True)\n",
      "tensor(True)\n",
      "tensor(True)\n",
      "tensor(True)\n",
      "tensor(True)\n",
      "tensor(True)\n",
      "tensor(True)\n",
      "tensor(True)\n",
      "tensor(True)\n",
      "tensor(True)\n",
      "tensor(True)\n",
      "tensor(True)\n",
      "tensor(True)\n",
      "tensor(True)\n",
      "tensor(True)\n",
      "tensor(True)\n",
      "tensor(True)\n",
      "tensor(True)\n",
      "tensor(True)\n",
      "tensor(True)\n",
      "tensor(True)\n",
      "tensor(True)\n",
      "tensor(True)\n",
      "tensor(True)\n",
      "tensor(True)\n",
      "tensor(True)\n",
      "tensor(True)\n",
      "tensor(True)\n",
      "tensor(True)\n",
      "tensor(True)\n",
      "tensor(True)\n",
      "tensor(True)\n",
      "tensor(True)\n",
      "tensor(True)\n",
      "tensor(True)\n",
      "tensor(True)\n",
      "tensor(True)\n",
      "tensor(True)\n",
      "tensor(True)\n",
      "tensor(True)\n",
      "tensor(True)\n",
      "tensor(True)\n",
      "tensor(True)\n",
      "tensor(True)\n",
      "tensor(True)\n",
      "tensor(True)\n",
      "tensor(True)\n",
      "tensor(True)\n",
      "tensor(True)\n",
      "tensor(True)\n",
      "tensor(True)\n",
      "tensor(True)\n",
      "tensor(True)\n",
      "tensor(True)\n",
      "tensor(True)\n",
      "tensor(True)\n",
      "tensor(True)\n",
      "tensor(True)\n",
      "tensor(True)\n",
      "tensor(True)\n",
      "tensor(True)\n",
      "tensor(True)\n",
      "tensor(True)\n",
      "tensor(True)\n",
      "tensor(True)\n",
      "tensor(True)\n",
      "tensor(True)\n",
      "tensor(True)\n",
      "tensor(True)\n",
      "tensor(True)\n",
      "tensor(True)\n",
      "tensor(True)\n",
      "tensor(True)\n",
      "tensor(True)\n",
      "tensor(True)\n",
      "tensor(True)\n",
      "tensor(True)\n",
      "tensor(True)\n",
      "tensor(True)\n",
      "tensor(True)\n",
      "tensor(True)\n",
      "tensor(True)\n",
      "tensor(True)\n",
      "tensor(True)\n",
      "tensor(True)\n",
      "tensor(True)\n",
      "tensor(True)\n",
      "tensor(True)\n",
      "tensor(True)\n",
      "tensor(True)\n",
      "tensor(True)\n",
      "tensor(True)\n",
      "tensor(True)\n",
      "tensor(True)\n",
      "tensor(True)\n",
      "tensor(True)\n",
      "tensor(True)\n",
      "tensor(True)\n",
      "tensor(True)\n",
      "tensor(True)\n",
      "tensor(True)\n",
      "tensor(True)\n",
      "tensor(True)\n",
      "tensor(True)\n",
      "tensor(True)\n",
      "tensor(True)\n",
      "tensor(True)\n",
      "tensor(True)\n",
      "tensor(True)\n",
      "tensor(True)\n",
      "tensor(True)\n",
      "tensor(True)\n",
      "tensor(True)\n",
      "tensor(True)\n",
      "tensor(True)\n",
      "tensor(True)\n",
      "tensor(True)\n",
      "tensor(True)\n",
      "tensor(True)\n",
      "tensor(True)\n",
      "tensor(True)\n",
      "tensor(True)\n",
      "tensor(True)\n",
      "tensor(True)\n",
      "tensor(True)\n",
      "tensor(True)\n",
      "tensor(True)\n",
      "tensor(True)\n",
      "tensor(True)\n",
      "tensor(True)\n",
      "tensor(True)\n",
      "tensor(True)\n",
      "tensor(True)\n",
      "tensor(True)\n",
      "tensor(True)\n",
      "tensor(True)\n",
      "tensor(True)\n",
      "tensor(True)\n",
      "tensor(True)\n",
      "tensor(True)\n",
      "tensor(True)\n",
      "tensor(True)\n",
      "tensor(True)\n",
      "tensor(True)\n",
      "tensor(True)\n",
      "tensor(True)\n",
      "tensor(True)\n",
      "tensor(True)\n",
      "tensor(True)\n",
      "tensor(True)\n",
      "tensor(True)\n",
      "tensor(True)\n",
      "tensor(True)\n",
      "tensor(True)\n",
      "tensor(True)\n",
      "tensor(True)\n",
      "tensor(True)\n",
      "tensor(True)\n",
      "tensor(True)\n",
      "tensor(True)\n",
      "tensor(True)\n",
      "tensor(True)\n",
      "tensor(True)\n",
      "tensor(True)\n",
      "tensor(True)\n",
      "tensor(True)\n",
      "tensor(True)\n",
      "tensor(True)\n",
      "tensor(True)\n",
      "tensor(True)\n",
      "tensor(True)\n",
      "tensor(True)\n",
      "tensor(True)\n",
      "tensor(True)\n",
      "tensor(True)\n",
      "tensor(True)\n",
      "tensor(True)\n",
      "tensor(True)\n",
      "tensor(True)\n",
      "tensor(True)\n",
      "tensor(True)\n",
      "tensor(True)\n",
      "tensor(True)\n",
      "tensor(True)\n",
      "tensor(True)\n",
      "tensor(True)\n",
      "tensor(True)\n",
      "tensor(True)\n",
      "tensor(True)\n",
      "tensor(True)\n",
      "tensor(True)\n",
      "tensor(True)\n",
      "tensor(True)\n"
     ]
    }
   ],
   "source": [
    "for jet_idx in range(10):\n",
    "    for subjet_idx in range(20):\n",
    "        num_real_ptcls = int(subjets[jet_idx, subjet_idx, -1])\n",
    "        particle_features_at_subjet_idx = torch.zeros((30, 4))\n",
    "        real_indices = particle_indices[jet_idx, subjet_idx].long()[:num_real_ptcls]\n",
    "        particle_features_at_subjet_idx[:num_real_ptcls, :] = particle_features[jet_idx, real_indices, :]\n",
    "        print((particle_features_at_subjet_idx == x[jet_idx, subjet_idx]).all())"
   ]
  },
  {
   "cell_type": "code",
   "execution_count": 6,
   "id": "86ce2493-1032-480d-be42-1e61b2f4cb83",
   "metadata": {
    "execution": {
     "iopub.execute_input": "2024-08-29T16:47:32.527077Z",
     "iopub.status.busy": "2024-08-29T16:47:32.526991Z",
     "iopub.status.idle": "2024-08-29T16:47:32.531504Z",
     "shell.execute_reply": "2024-08-29T16:47:32.531287Z",
     "shell.execute_reply.started": "2024-08-29T16:47:32.527069Z"
    }
   },
   "outputs": [
    {
     "data": {
      "text/plain": [
       "tensor([-1., -1., -1., -1., -1., -1., -1., -1., -1., -1., -1., -1., -1., -1.,\n",
       "        -1., -1., -1., -1., -1., -1., -1., -1., -1., -1., -1., -1., -1., -1.,\n",
       "        -1., -1.], dtype=torch.float64)"
      ]
     },
     "execution_count": 6,
     "metadata": {},
     "output_type": "execute_result"
    }
   ],
   "source": [
    "particle_indices[0, subjet_idx]"
   ]
  },
  {
   "cell_type": "code",
   "execution_count": 7,
   "id": "948ad7e1-e690-4c2f-b7bf-837054dbfe09",
   "metadata": {
    "execution": {
     "iopub.execute_input": "2024-08-29T16:47:32.531915Z",
     "iopub.status.busy": "2024-08-29T16:47:32.531827Z",
     "iopub.status.idle": "2024-08-29T16:47:32.534000Z",
     "shell.execute_reply": "2024-08-29T16:47:32.533724Z",
     "shell.execute_reply.started": "2024-08-29T16:47:32.531906Z"
    }
   },
   "outputs": [
    {
     "data": {
      "text/plain": [
       "torch.Size([30, 4])"
      ]
     },
     "execution_count": 7,
     "metadata": {},
     "output_type": "execute_result"
    }
   ],
   "source": [
    "particle_features_at_subjet_idx.shape"
   ]
  },
  {
   "cell_type": "code",
   "execution_count": 8,
   "id": "6d57ad76-66bf-46ed-89f8-e4bb79152cd0",
   "metadata": {
    "execution": {
     "iopub.execute_input": "2024-08-29T16:47:32.534466Z",
     "iopub.status.busy": "2024-08-29T16:47:32.534361Z",
     "iopub.status.idle": "2024-08-29T16:47:32.537244Z",
     "shell.execute_reply": "2024-08-29T16:47:32.537032Z",
     "shell.execute_reply.started": "2024-08-29T16:47:32.534457Z"
    }
   },
   "outputs": [
    {
     "data": {
      "text/plain": [
       "tensor([[True, True, True, True],\n",
       "        [True, True, True, True],\n",
       "        [True, True, True, True],\n",
       "        [True, True, True, True],\n",
       "        [True, True, True, True],\n",
       "        [True, True, True, True],\n",
       "        [True, True, True, True],\n",
       "        [True, True, True, True],\n",
       "        [True, True, True, True],\n",
       "        [True, True, True, True],\n",
       "        [True, True, True, True],\n",
       "        [True, True, True, True],\n",
       "        [True, True, True, True],\n",
       "        [True, True, True, True],\n",
       "        [True, True, True, True],\n",
       "        [True, True, True, True],\n",
       "        [True, True, True, True],\n",
       "        [True, True, True, True],\n",
       "        [True, True, True, True],\n",
       "        [True, True, True, True],\n",
       "        [True, True, True, True],\n",
       "        [True, True, True, True],\n",
       "        [True, True, True, True],\n",
       "        [True, True, True, True],\n",
       "        [True, True, True, True],\n",
       "        [True, True, True, True],\n",
       "        [True, True, True, True],\n",
       "        [True, True, True, True],\n",
       "        [True, True, True, True],\n",
       "        [True, True, True, True]])"
      ]
     },
     "execution_count": 8,
     "metadata": {},
     "output_type": "execute_result"
    }
   ],
   "source": [
    "particle_features_at_subjet_idx == x[0, subjet_idx]"
   ]
  },
  {
   "cell_type": "code",
   "execution_count": 9,
   "id": "6eac35c9-eae6-4d1e-825a-43acb99863ce",
   "metadata": {
    "execution": {
     "iopub.execute_input": "2024-08-29T16:47:32.537656Z",
     "iopub.status.busy": "2024-08-29T16:47:32.537570Z",
     "iopub.status.idle": "2024-08-29T16:47:32.540221Z",
     "shell.execute_reply": "2024-08-29T16:47:32.540022Z",
     "shell.execute_reply.started": "2024-08-29T16:47:32.537649Z"
    }
   },
   "outputs": [
    {
     "data": {
      "text/plain": [
       "tensor([[-0.0756,  6.1523,  4.7911,  4.9983],\n",
       "        [-0.1000,  6.0422,  3.1591,  3.3523],\n",
       "        [-0.0758,  6.0386,  2.9675,  3.1746],\n",
       "        [-0.1024,  6.0335,  2.9542,  3.1460],\n",
       "        [-0.1137,  6.0311,  2.6393,  2.8248],\n",
       "        [-0.1269,  6.0305,  2.5899,  2.7681],\n",
       "        [-0.1048,  6.0437,  2.5067,  2.6972],\n",
       "        [-0.0239,  6.0109,  2.4144,  2.6526],\n",
       "        [-0.0998,  6.0352,  2.2614,  2.4546],\n",
       "        [ 0.0075,  6.1512,  1.6976,  1.9553],\n",
       "        [ 0.1050,  6.0568,  1.2051,  1.5275],\n",
       "        [ 0.1267,  5.9458,  0.8836,  1.2211],\n",
       "        [-0.0646,  5.9976,  0.8666,  1.0802],\n",
       "        [ 0.0150,  5.8787,  0.7136,  0.9762],\n",
       "        [-0.0605,  5.8903,  0.6450,  0.8610],\n",
       "        [-0.1794,  6.1206, -0.3119, -0.1615],\n",
       "        [ 0.0000,  0.0000,  0.0000,  0.0000],\n",
       "        [ 0.0000,  0.0000,  0.0000,  0.0000],\n",
       "        [ 0.0000,  0.0000,  0.0000,  0.0000],\n",
       "        [ 0.0000,  0.0000,  0.0000,  0.0000],\n",
       "        [ 0.0000,  0.0000,  0.0000,  0.0000],\n",
       "        [ 0.0000,  0.0000,  0.0000,  0.0000],\n",
       "        [ 0.0000,  0.0000,  0.0000,  0.0000],\n",
       "        [ 0.0000,  0.0000,  0.0000,  0.0000],\n",
       "        [ 0.0000,  0.0000,  0.0000,  0.0000],\n",
       "        [ 0.0000,  0.0000,  0.0000,  0.0000],\n",
       "        [ 0.0000,  0.0000,  0.0000,  0.0000],\n",
       "        [ 0.0000,  0.0000,  0.0000,  0.0000],\n",
       "        [ 0.0000,  0.0000,  0.0000,  0.0000],\n",
       "        [ 0.0000,  0.0000,  0.0000,  0.0000]])"
      ]
     },
     "execution_count": 9,
     "metadata": {},
     "output_type": "execute_result"
    }
   ],
   "source": [
    "x[0, 0]"
   ]
  },
  {
   "cell_type": "code",
   "execution_count": 10,
   "id": "530001d1-2d22-4fda-801a-c24992d1d405",
   "metadata": {
    "execution": {
     "iopub.execute_input": "2024-08-29T16:47:32.540618Z",
     "iopub.status.busy": "2024-08-29T16:47:32.540533Z",
     "iopub.status.idle": "2024-08-29T16:47:32.543818Z",
     "shell.execute_reply": "2024-08-29T16:47:32.543609Z",
     "shell.execute_reply.started": "2024-08-29T16:47:32.540610Z"
    }
   },
   "outputs": [
    {
     "data": {
      "text/plain": [
       "tensor([[ 2.5191e-02, -2.6025e-01,  4.3913e+00,  5.0848e+00],\n",
       "        [ 4.8948e-02, -2.4499e-01,  3.1821e+00,  3.8962e+00],\n",
       "        [ 2.4684e-02, -1.8103e-01,  2.8751e+00,  3.5681e+00],\n",
       "        [ 6.9477e-02, -3.8943e-01,  2.6219e+00,  3.3539e+00],\n",
       "        [ 7.2018e-02, -1.7780e-01,  2.4344e+00,  3.1687e+00],\n",
       "        [-2.1879e-02, -3.6831e-01,  1.6490e+00,  2.3020e+00],\n",
       "        [ 2.4684e-02, -1.8103e-01,  1.6165e+00,  2.3096e+00],\n",
       "        [ 6.1788e-02, -3.2459e-01,  8.9850e-01,  1.6239e+00],\n",
       "        [ 1.6054e-01, -1.7279e-01,  8.1810e-01,  1.6309e+00],\n",
       "        [-5.0352e-03, -1.7450e-01,  6.7175e-01,  1.3392e+00],\n",
       "        [ 3.7771e-02, -2.2247e-01,  4.6225e-01,  1.1667e+00],\n",
       "        [-7.6687e-03, -2.3487e-01,  1.2529e-01,  7.9046e-01],\n",
       "        [ 0.0000e+00,  0.0000e+00,  0.0000e+00,  0.0000e+00],\n",
       "        [ 0.0000e+00,  0.0000e+00,  0.0000e+00,  0.0000e+00],\n",
       "        [ 0.0000e+00,  0.0000e+00,  0.0000e+00,  0.0000e+00],\n",
       "        [ 0.0000e+00,  0.0000e+00,  0.0000e+00,  0.0000e+00],\n",
       "        [ 0.0000e+00,  0.0000e+00,  0.0000e+00,  0.0000e+00],\n",
       "        [ 0.0000e+00,  0.0000e+00,  0.0000e+00,  0.0000e+00],\n",
       "        [ 0.0000e+00,  0.0000e+00,  0.0000e+00,  0.0000e+00],\n",
       "        [ 0.0000e+00,  0.0000e+00,  0.0000e+00,  0.0000e+00],\n",
       "        [ 0.0000e+00,  0.0000e+00,  0.0000e+00,  0.0000e+00],\n",
       "        [ 0.0000e+00,  0.0000e+00,  0.0000e+00,  0.0000e+00],\n",
       "        [ 0.0000e+00,  0.0000e+00,  0.0000e+00,  0.0000e+00],\n",
       "        [ 0.0000e+00,  0.0000e+00,  0.0000e+00,  0.0000e+00],\n",
       "        [ 0.0000e+00,  0.0000e+00,  0.0000e+00,  0.0000e+00],\n",
       "        [ 0.0000e+00,  0.0000e+00,  0.0000e+00,  0.0000e+00],\n",
       "        [ 0.0000e+00,  0.0000e+00,  0.0000e+00,  0.0000e+00],\n",
       "        [ 0.0000e+00,  0.0000e+00,  0.0000e+00,  0.0000e+00],\n",
       "        [ 0.0000e+00,  0.0000e+00,  0.0000e+00,  0.0000e+00],\n",
       "        [ 0.0000e+00,  0.0000e+00,  0.0000e+00,  0.0000e+00]])"
      ]
     },
     "execution_count": 10,
     "metadata": {},
     "output_type": "execute_result"
    }
   ],
   "source": [
    "jet_idx = 1\n",
    "subjet_idx = 1\n",
    "num_real_ptcls = int(subjets[jet_idx, subjet_idx, -1])\n",
    "particle_features_at_subjet_idx = torch.zeros((30, 4))\n",
    "particle_features_at_subjet_idx[:num_real_ptcls] = particle_features[jet_idx, particle_indices[jet_idx, subjet_idx].long()[:num_real_ptcls], :]\n",
    "particle_features_at_subjet_idx"
   ]
  },
  {
   "cell_type": "code",
   "execution_count": 11,
   "id": "bcddcd0b-76f5-4447-be15-2e0ac857b78a",
   "metadata": {
    "execution": {
     "iopub.execute_input": "2024-08-29T16:47:32.544208Z",
     "iopub.status.busy": "2024-08-29T16:47:32.544123Z",
     "iopub.status.idle": "2024-08-29T16:47:32.546766Z",
     "shell.execute_reply": "2024-08-29T16:47:32.546566Z",
     "shell.execute_reply.started": "2024-08-29T16:47:32.544200Z"
    }
   },
   "outputs": [
    {
     "data": {
      "text/plain": [
       "tensor([[ 2.5191e-02, -2.6025e-01,  4.3913e+00,  5.0848e+00],\n",
       "        [ 4.8948e-02, -2.4499e-01,  3.1821e+00,  3.8962e+00],\n",
       "        [ 2.4684e-02, -1.8103e-01,  2.8751e+00,  3.5681e+00],\n",
       "        [ 6.9477e-02, -3.8943e-01,  2.6219e+00,  3.3539e+00],\n",
       "        [ 7.2018e-02, -1.7780e-01,  2.4344e+00,  3.1687e+00],\n",
       "        [-2.1879e-02, -3.6831e-01,  1.6490e+00,  2.3020e+00],\n",
       "        [ 2.4684e-02, -1.8103e-01,  1.6165e+00,  2.3096e+00],\n",
       "        [ 6.1788e-02, -3.2459e-01,  8.9850e-01,  1.6239e+00],\n",
       "        [ 1.6054e-01, -1.7279e-01,  8.1810e-01,  1.6309e+00],\n",
       "        [-5.0352e-03, -1.7450e-01,  6.7175e-01,  1.3392e+00],\n",
       "        [ 3.7771e-02, -2.2247e-01,  4.6225e-01,  1.1667e+00],\n",
       "        [-7.6687e-03, -2.3487e-01,  1.2529e-01,  7.9046e-01],\n",
       "        [ 0.0000e+00,  0.0000e+00,  0.0000e+00,  0.0000e+00],\n",
       "        [ 0.0000e+00,  0.0000e+00,  0.0000e+00,  0.0000e+00],\n",
       "        [ 0.0000e+00,  0.0000e+00,  0.0000e+00,  0.0000e+00],\n",
       "        [ 0.0000e+00,  0.0000e+00,  0.0000e+00,  0.0000e+00],\n",
       "        [ 0.0000e+00,  0.0000e+00,  0.0000e+00,  0.0000e+00],\n",
       "        [ 0.0000e+00,  0.0000e+00,  0.0000e+00,  0.0000e+00],\n",
       "        [ 0.0000e+00,  0.0000e+00,  0.0000e+00,  0.0000e+00],\n",
       "        [ 0.0000e+00,  0.0000e+00,  0.0000e+00,  0.0000e+00],\n",
       "        [ 0.0000e+00,  0.0000e+00,  0.0000e+00,  0.0000e+00],\n",
       "        [ 0.0000e+00,  0.0000e+00,  0.0000e+00,  0.0000e+00],\n",
       "        [ 0.0000e+00,  0.0000e+00,  0.0000e+00,  0.0000e+00],\n",
       "        [ 0.0000e+00,  0.0000e+00,  0.0000e+00,  0.0000e+00],\n",
       "        [ 0.0000e+00,  0.0000e+00,  0.0000e+00,  0.0000e+00],\n",
       "        [ 0.0000e+00,  0.0000e+00,  0.0000e+00,  0.0000e+00],\n",
       "        [ 0.0000e+00,  0.0000e+00,  0.0000e+00,  0.0000e+00],\n",
       "        [ 0.0000e+00,  0.0000e+00,  0.0000e+00,  0.0000e+00],\n",
       "        [ 0.0000e+00,  0.0000e+00,  0.0000e+00,  0.0000e+00],\n",
       "        [ 0.0000e+00,  0.0000e+00,  0.0000e+00,  0.0000e+00]])"
      ]
     },
     "execution_count": 11,
     "metadata": {},
     "output_type": "execute_result"
    }
   ],
   "source": [
    "x[jet_idx, subjet_idx]"
   ]
  },
  {
   "cell_type": "code",
   "execution_count": 12,
   "id": "9dbd358d-6797-45d1-8039-0576e7432c4e",
   "metadata": {
    "execution": {
     "iopub.execute_input": "2024-08-29T16:47:32.547146Z",
     "iopub.status.busy": "2024-08-29T16:47:32.547063Z",
     "iopub.status.idle": "2024-08-29T16:47:32.549370Z",
     "shell.execute_reply": "2024-08-29T16:47:32.549171Z",
     "shell.execute_reply.started": "2024-08-29T16:47:32.547139Z"
    }
   },
   "outputs": [
    {
     "data": {
      "text/plain": [
       "tensor(12., dtype=torch.float64)"
      ]
     },
     "execution_count": 12,
     "metadata": {},
     "output_type": "execute_result"
    }
   ],
   "source": [
    "subjets[jet_idx, subjet_idx, -1]"
   ]
  },
  {
   "cell_type": "code",
   "execution_count": null,
   "id": "f778a8a4-6c80-40cf-b1ae-398e73c1fc41",
   "metadata": {},
   "outputs": [],
   "source": []
  }
 ],
 "metadata": {
  "kernelspec": {
   "display_name": "Python 3 (ipykernel)",
   "language": "python",
   "name": "python3"
  },
  "language_info": {
   "codemirror_mode": {
    "name": "ipython",
    "version": 3
   },
   "file_extension": ".py",
   "mimetype": "text/x-python",
   "name": "python",
   "nbconvert_exporter": "python",
   "pygments_lexer": "ipython3",
   "version": "3.11.5"
  }
 },
 "nbformat": 4,
 "nbformat_minor": 5
}
