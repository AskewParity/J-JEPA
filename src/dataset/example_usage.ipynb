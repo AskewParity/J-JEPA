{
 "cells": [
  {
   "cell_type": "code",
   "execution_count": 1,
   "id": "e28acf57-e00e-4733-abe5-c88263aa880f",
   "metadata": {
    "execution": {
     "iopub.execute_input": "2024-08-26T00:06:25.836591Z",
     "iopub.status.busy": "2024-08-26T00:06:25.836473Z",
     "iopub.status.idle": "2024-08-26T00:06:26.065666Z",
     "shell.execute_reply": "2024-08-26T00:06:26.065150Z",
     "shell.execute_reply.started": "2024-08-26T00:06:25.836577Z"
    }
   },
   "outputs": [
    {
     "name": "stdout",
     "output_type": "stream",
     "text": [
      "/ssl-jet-vol-v3/I-JEPA-Jets/src/dataset\n"
     ]
    }
   ],
   "source": [
    "!pwd"
   ]
  },
  {
   "cell_type": "code",
   "execution_count": 2,
   "id": "64fedc9f-7155-40ae-b5a2-9d2e643039b3",
   "metadata": {
    "execution": {
     "iopub.execute_input": "2024-08-26T00:06:26.066989Z",
     "iopub.status.busy": "2024-08-26T00:06:26.066734Z",
     "iopub.status.idle": "2024-08-26T00:06:27.672119Z",
     "shell.execute_reply": "2024-08-26T00:06:27.671596Z",
     "shell.execute_reply.started": "2024-08-26T00:06:26.066972Z"
    }
   },
   "outputs": [],
   "source": [
    "import random\n",
    "from JetDataset import JetDataset\n",
    "from torch.utils.data import Dataset, DataLoader"
   ]
  },
  {
   "cell_type": "code",
   "execution_count": 3,
   "id": "69550796-fda5-4f41-a226-c5fe8c204c8b",
   "metadata": {
    "execution": {
     "iopub.execute_input": "2024-08-26T00:06:27.673003Z",
     "iopub.status.busy": "2024-08-26T00:06:27.672781Z",
     "iopub.status.idle": "2024-08-26T00:06:31.359987Z",
     "shell.execute_reply": "2024-08-26T00:06:31.359330Z",
     "shell.execute_reply.started": "2024-08-26T00:06:27.672987Z"
    }
   },
   "outputs": [
    {
     "name": "stdout",
     "output_type": "stream",
     "text": [
      "Initializing JetDataset with file: ../../data/val/val_20_30_new.h5\n",
      "Loading features and subjets from HDF5 file\n",
      "Filtered to 261239 good jets\n",
      "Final dataset size: 1000 jets\n"
     ]
    }
   ],
   "source": [
    "train_dataset = JetDataset(\"../../data/val/val_20_30_new.h5\", num_jets=1000, config=None)"
   ]
  },
  {
   "cell_type": "code",
   "execution_count": 4,
   "id": "ace7302a-7018-44fd-8421-8aeb0ebf3b35",
   "metadata": {
    "execution": {
     "iopub.execute_input": "2024-08-26T00:06:31.361116Z",
     "iopub.status.busy": "2024-08-26T00:06:31.360893Z",
     "iopub.status.idle": "2024-08-26T00:06:31.385747Z",
     "shell.execute_reply": "2024-08-26T00:06:31.385353Z",
     "shell.execute_reply.started": "2024-08-26T00:06:31.361097Z"
    }
   },
   "outputs": [],
   "source": [
    "train_loader = DataLoader(train_dataset, batch_size=1, shuffle=True)\n",
    "train_iter = iter(train_loader)\n",
    "particle_features, subjets, particle_indices, subjet_mask, particle_mask = next(train_iter)"
   ]
  },
  {
   "cell_type": "code",
   "execution_count": 5,
   "id": "20b40117-8be0-4d39-89d9-29804b15d9ed",
   "metadata": {
    "execution": {
     "iopub.execute_input": "2024-08-26T00:06:41.910857Z",
     "iopub.status.busy": "2024-08-26T00:06:41.910503Z",
     "iopub.status.idle": "2024-08-26T00:06:41.914501Z",
     "shell.execute_reply": "2024-08-26T00:06:41.914040Z",
     "shell.execute_reply.started": "2024-08-26T00:06:41.910841Z"
    }
   },
   "outputs": [
    {
     "name": "stdout",
     "output_type": "stream",
     "text": [
      "particle features torch.Size([1, 4, 128])\n",
      "subjets torch.Size([1, 20, 4])\n",
      "particle indices torch.Size([1, 20, 30])\n",
      "subjet_mask torch.Size([1, 20])\n",
      "particle_mask torch.Size([1, 20, 30])\n"
     ]
    }
   ],
   "source": [
    "print(\"particle features\", particle_features.shape)\n",
    "print(\"subjets\", subjets.shape)\n",
    "print(\"particle indices\", particle_indices.shape)\n",
    "print(\"subjet_mask\", subjet_mask.shape)\n",
    "print(\"particle_mask\", particle_mask.shape)"
   ]
  },
  {
   "cell_type": "markdown",
   "id": "1bd6ddfd-9e65-4780-b48c-8bdcbf069ec2",
   "metadata": {},
   "source": [
    "## How to get features of particles contained in a subjet"
   ]
  },
  {
   "cell_type": "code",
   "execution_count": 6,
   "id": "ea465ee2-a8e6-49af-9dc2-656e2c34829e",
   "metadata": {
    "execution": {
     "iopub.execute_input": "2024-08-26T00:07:14.009154Z",
     "iopub.status.busy": "2024-08-26T00:07:14.008834Z",
     "iopub.status.idle": "2024-08-26T00:07:14.012325Z",
     "shell.execute_reply": "2024-08-26T00:07:14.011895Z",
     "shell.execute_reply.started": "2024-08-26T00:07:14.009138Z"
    }
   },
   "outputs": [],
   "source": [
    "jet_idx = 0\n",
    "subjet_idx = random.randint(0, 20)\n",
    "particle_features_at_subjet_idx = particle_features[0, :, particle_indices[0, subjet_idx].long()]"
   ]
  },
  {
   "cell_type": "code",
   "execution_count": 7,
   "id": "86ce2493-1032-480d-be42-1e61b2f4cb83",
   "metadata": {
    "execution": {
     "iopub.execute_input": "2024-08-26T00:07:18.393371Z",
     "iopub.status.busy": "2024-08-26T00:07:18.393037Z",
     "iopub.status.idle": "2024-08-26T00:07:18.399920Z",
     "shell.execute_reply": "2024-08-26T00:07:18.399519Z",
     "shell.execute_reply.started": "2024-08-26T00:07:18.393356Z"
    }
   },
   "outputs": [
    {
     "data": {
      "text/plain": [
       "tensor([32., -1., -1., -1., -1., -1., -1., -1., -1., -1., -1., -1., -1., -1.,\n",
       "        -1., -1., -1., -1., -1., -1., -1., -1., -1., -1., -1., -1., -1., -1.,\n",
       "        -1., -1.], dtype=torch.float64)"
      ]
     },
     "execution_count": 7,
     "metadata": {},
     "output_type": "execute_result"
    }
   ],
   "source": [
    "particle_indices[0, subjet_idx]"
   ]
  },
  {
   "cell_type": "code",
   "execution_count": 8,
   "id": "948ad7e1-e690-4c2f-b7bf-837054dbfe09",
   "metadata": {
    "execution": {
     "iopub.execute_input": "2024-08-26T00:07:24.911023Z",
     "iopub.status.busy": "2024-08-26T00:07:24.910698Z",
     "iopub.status.idle": "2024-08-26T00:07:24.914546Z",
     "shell.execute_reply": "2024-08-26T00:07:24.914160Z",
     "shell.execute_reply.started": "2024-08-26T00:07:24.911007Z"
    }
   },
   "outputs": [
    {
     "data": {
      "text/plain": [
       "torch.Size([4, 30])"
      ]
     },
     "execution_count": 8,
     "metadata": {},
     "output_type": "execute_result"
    }
   ],
   "source": [
    "particle_features_at_subjet_idx.shape"
   ]
  },
  {
   "cell_type": "code",
   "execution_count": 9,
   "id": "6d57ad76-66bf-46ed-89f8-e4bb79152cd0",
   "metadata": {
    "execution": {
     "iopub.execute_input": "2024-08-26T00:07:30.775498Z",
     "iopub.status.busy": "2024-08-26T00:07:30.775215Z",
     "iopub.status.idle": "2024-08-26T00:07:30.779500Z",
     "shell.execute_reply": "2024-08-26T00:07:30.779099Z",
     "shell.execute_reply.started": "2024-08-26T00:07:30.775484Z"
    }
   },
   "outputs": [
    {
     "data": {
      "text/plain": [
       "tensor([[-0.5510,  0.0000,  0.0000,  0.0000,  0.0000,  0.0000,  0.0000,  0.0000,\n",
       "          0.0000,  0.0000,  0.0000,  0.0000,  0.0000,  0.0000,  0.0000,  0.0000,\n",
       "          0.0000,  0.0000,  0.0000,  0.0000,  0.0000,  0.0000,  0.0000,  0.0000,\n",
       "          0.0000,  0.0000,  0.0000,  0.0000,  0.0000,  0.0000],\n",
       "        [ 0.0223,  0.0000,  0.0000,  0.0000,  0.0000,  0.0000,  0.0000,  0.0000,\n",
       "          0.0000,  0.0000,  0.0000,  0.0000,  0.0000,  0.0000,  0.0000,  0.0000,\n",
       "          0.0000,  0.0000,  0.0000,  0.0000,  0.0000,  0.0000,  0.0000,  0.0000,\n",
       "          0.0000,  0.0000,  0.0000,  0.0000,  0.0000,  0.0000],\n",
       "        [ 0.6121,  0.0000,  0.0000,  0.0000,  0.0000,  0.0000,  0.0000,  0.0000,\n",
       "          0.0000,  0.0000,  0.0000,  0.0000,  0.0000,  0.0000,  0.0000,  0.0000,\n",
       "          0.0000,  0.0000,  0.0000,  0.0000,  0.0000,  0.0000,  0.0000,  0.0000,\n",
       "          0.0000,  0.0000,  0.0000,  0.0000,  0.0000,  0.0000],\n",
       "        [ 0.7517,  0.0000,  0.0000,  0.0000,  0.0000,  0.0000,  0.0000,  0.0000,\n",
       "          0.0000,  0.0000,  0.0000,  0.0000,  0.0000,  0.0000,  0.0000,  0.0000,\n",
       "          0.0000,  0.0000,  0.0000,  0.0000,  0.0000,  0.0000,  0.0000,  0.0000,\n",
       "          0.0000,  0.0000,  0.0000,  0.0000,  0.0000,  0.0000]],\n",
       "       dtype=torch.float64)"
      ]
     },
     "execution_count": 9,
     "metadata": {},
     "output_type": "execute_result"
    }
   ],
   "source": [
    "particle_features_at_subjet_idx"
   ]
  },
  {
   "cell_type": "code",
   "execution_count": null,
   "id": "6eac35c9-eae6-4d1e-825a-43acb99863ce",
   "metadata": {},
   "outputs": [],
   "source": []
  }
 ],
 "metadata": {
  "kernelspec": {
   "display_name": "Python 3 (ipykernel)",
   "language": "python",
   "name": "python3"
  },
  "language_info": {
   "codemirror_mode": {
    "name": "ipython",
    "version": 3
   },
   "file_extension": ".py",
   "mimetype": "text/x-python",
   "name": "python",
   "nbconvert_exporter": "python",
   "pygments_lexer": "ipython3",
   "version": "3.11.5"
  }
 },
 "nbformat": 4,
 "nbformat_minor": 5
}
