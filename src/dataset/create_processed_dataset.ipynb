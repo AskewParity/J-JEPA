{
 "cells": [
  {
   "cell_type": "code",
   "execution_count": 10,
   "id": "174bd314",
   "metadata": {},
   "outputs": [
    {
     "name": "stdout",
     "output_type": "stream",
     "text": [
      "File exists: D:\\physic\\data\\val\\val_20_30_small.h5\n"
     ]
    }
   ],
   "source": [
    "import os\n",
    "\n",
    "file_path = r\"D:\\physic\\data\\val\\val_20_30_small.h5\"\n",
    "if os.path.exists(file_path):\n",
    "    print(f\"File exists: {file_path}\")\n",
    "else:\n",
    "    print(f\"File does not exist: {file_path}\")\n"
   ]
  },
  {
   "cell_type": "code",
   "execution_count": 11,
   "id": "5424c750-71d2-49b9-90b1-e2cd7db72807",
   "metadata": {
    "execution": {
     "iopub.execute_input": "2024-08-29T22:53:24.177990Z",
     "iopub.status.busy": "2024-08-29T22:53:24.177716Z",
     "iopub.status.idle": "2024-08-29T22:54:24.703569Z",
     "shell.execute_reply": "2024-08-29T22:54:24.702880Z",
     "shell.execute_reply.started": "2024-08-29T22:53:24.177979Z"
    }
   },
   "outputs": [
    {
     "name": "stdout",
     "output_type": "stream",
     "text": [
      "Initializing JetDataset with file: D:\\physic\\data\\val\\val_20_30_small.h5\n",
      "Loading features and subjets from HDF5 file\n",
      "Filtered to 6452 good jets\n",
      "Final dataset size: 6452 jets\n",
      "__getitem__ returns (x, particle_features, subjets, indices, subjet_mask, particle_mask)\n"
     ]
    }
   ],
   "source": [
    "import random\n",
    "import h5py\n",
    "from JetDataset import JetDataset\n",
    "import torch\n",
    "from torch.utils.data import Dataset, DataLoader\n",
    "tag = 'train'\n",
    "# train_dataset = JetDataset(f\"/mnt/d/physic/data/train_20_30_new.h5\", config=None)\n",
    "train_dataset = JetDataset(r\"D:\\physic\\data\\val\\val_20_30_small.h5\", config=None)\n",
    "\n",
    "\n",
    "\n"
   ]
  },
  {
   "cell_type": "code",
   "execution_count": 12,
   "id": "991561b8-fbfc-47c6-bc49-a8d925d06e6f",
   "metadata": {
    "execution": {
     "iopub.execute_input": "2024-08-29T22:13:31.737230Z",
     "iopub.status.busy": "2024-08-29T22:13:31.736359Z",
     "iopub.status.idle": "2024-08-29T22:15:07.932279Z",
     "shell.execute_reply": "2024-08-29T22:15:07.931793Z",
     "shell.execute_reply.started": "2024-08-29T22:13:31.737216Z"
    }
   },
   "outputs": [],
   "source": [
    "train_loader = DataLoader(train_dataset, batch_size=1000, shuffle=True)\n",
    "train_iter = iter(train_loader)\n",
    "for i in range(len(train_dataset) // 1000 + 1):\n",
    "    x, particle_features, subjets, particle_indices, subjet_mask, particle_mask = next(train_iter)"
   ]
  },
  {
   "cell_type": "code",
   "execution_count": 13,
   "id": "b995e17b-cca9-41a0-8517-a31c3c05312f",
   "metadata": {
    "execution": {
     "iopub.execute_input": "2024-08-29T22:15:07.933044Z",
     "iopub.status.busy": "2024-08-29T22:15:07.932829Z",
     "iopub.status.idle": "2024-08-29T22:15:07.936749Z",
     "shell.execute_reply": "2024-08-29T22:15:07.936421Z",
     "shell.execute_reply.started": "2024-08-29T22:15:07.933031Z"
    }
   },
   "outputs": [
    {
     "data": {
      "text/plain": [
       "torch.Size([452, 20, 30, 4])"
      ]
     },
     "execution_count": 13,
     "metadata": {},
     "output_type": "execute_result"
    }
   ],
   "source": [
    "x.shape"
   ]
  },
  {
   "cell_type": "code",
   "execution_count": 14,
   "id": "1445e6df-b090-44e5-87d6-e8fa03c7d1ec",
   "metadata": {
    "execution": {
     "iopub.execute_input": "2024-08-29T22:15:07.937378Z",
     "iopub.status.busy": "2024-08-29T22:15:07.937194Z",
     "iopub.status.idle": "2024-08-29T22:17:51.967294Z",
     "shell.execute_reply": "2024-08-29T22:17:51.966792Z",
     "shell.execute_reply.started": "2024-08-29T22:15:07.937367Z"
    }
   },
   "outputs": [
    {
     "name": "stderr",
     "output_type": "stream",
     "text": [
      "100%|██████████| 7/7 [00:02<00:00,  2.75it/s]\n"
     ]
    }
   ],
   "source": [
    "from tqdm import tqdm\n",
    "import h5py\n",
    "import torch\n",
    "import numpy as np\n",
    "from torch.utils.data import DataLoader\n",
    "\n",
    "# Initialize DataLoader\n",
    "batch_size = 1000\n",
    "train_loader = DataLoader(train_dataset, batch_size=batch_size, shuffle=True)\n",
    "\n",
    "# Create a new HDF5 file\n",
    "# out_path = f\"D:\\physic\\data\\processed_{tag}_20_30_torch.h5\"\n",
    "out_path = r\"D:\\physic\\data\\processed_val_20_30_torch.h5\"\n",
    "with h5py.File(out_path, 'w') as hf:\n",
    "    # Get the first batch to determine sizes\n",
    "    first_batch = next(iter(train_loader))\n",
    "    num_jets = len(train_dataset)\n",
    "    num_subjets = first_batch[0].shape[1]\n",
    "    num_ptcls_per_subjet = first_batch[0].shape[2]\n",
    "    num_ptcl_ftrs = first_batch[0].shape[3]\n",
    "    num_ptcls_per_jet = first_batch[1].shape[1]\n",
    "    num_subjet_ftrs = first_batch[2].shape[2]\n",
    "\n",
    "    # Initialize datasets with extendable dimensions in the first dimension\n",
    "    hf.create_dataset('x', shape=(0, num_subjets, num_ptcls_per_subjet, num_ptcl_ftrs), maxshape=(None, num_subjets, num_ptcls_per_subjet, num_ptcl_ftrs), dtype='float32')\n",
    "    hf.create_dataset('particle_features', shape=(0, num_ptcls_per_jet, num_ptcl_ftrs), maxshape=(None, num_ptcls_per_jet, num_ptcl_ftrs), dtype='float64')\n",
    "    hf.create_dataset('subjets', shape=(0, num_subjets, num_subjet_ftrs), maxshape=(None, num_subjets, num_subjet_ftrs), dtype='float64')\n",
    "    hf.create_dataset('particle_indices', shape=(0, num_subjets, num_ptcls_per_subjet), maxshape=(None, num_subjets, num_ptcls_per_subjet), dtype='int32')\n",
    "    hf.create_dataset('subjet_mask', shape=(0, num_subjets), maxshape=(None, num_subjets), dtype='bool')\n",
    "    hf.create_dataset('particle_mask', shape=(0, num_subjets, num_ptcls_per_subjet), maxshape=(None, num_subjets, num_ptcls_per_subjet), dtype='bool')\n",
    "\n",
    "    # Write batches to HDF5\n",
    "    num_batches_processed = 0\n",
    "    for data in tqdm(train_loader):\n",
    "        x, particle_features, subjets, particle_indices, subjet_mask, particle_mask = [d.detach().cpu() for d in data]\n",
    "\n",
    "        # convert to appropriate data types\n",
    "\n",
    "        # Number of new data points\n",
    "        num_new = x.shape[0]\n",
    "        # particle_indices = particle_indices.astype(np.int32)\n",
    "        # subjet_mask = subjet_mask.astype(np.int32)\n",
    "        # particle_mask = particle_mask.astype(np.int32)\n",
    "\n",
    "        particle_indices = particle_indices.to(torch.int32)\n",
    "        subjet_mask = subjet_mask.to(torch.int32)\n",
    "        particle_mask = particle_mask.to(torch.int32)\n",
    "\n",
    "        # Resize datasets to accommodate new data\n",
    "        hf['x'].resize(num_batches_processed * batch_size + num_new, axis=0)\n",
    "        hf['particle_features'].resize(num_batches_processed * batch_size + num_new, axis=0)\n",
    "        hf['subjets'].resize(num_batches_processed * batch_size + num_new, axis=0)\n",
    "        hf['particle_indices'].resize(num_batches_processed * batch_size + num_new, axis=0)\n",
    "        hf['subjet_mask'].resize(num_batches_processed * batch_size + num_new, axis=0)\n",
    "        hf['particle_mask'].resize(num_batches_processed * batch_size + num_new, axis=0)\n",
    "\n",
    "        # Append new data\n",
    "        hf['x'][num_batches_processed * batch_size:num_batches_processed * batch_size + num_new] = x\n",
    "        hf['particle_features'][num_batches_processed * batch_size:num_batches_processed * batch_size + num_new] = particle_features\n",
    "        hf['subjets'][num_batches_processed * batch_size:num_batches_processed * batch_size + num_new] = subjets\n",
    "        hf['particle_indices'][num_batches_processed * batch_size:num_batches_processed * batch_size + num_new] = particle_indices\n",
    "        hf['subjet_mask'][num_batches_processed * batch_size:num_batches_processed * batch_size + num_new] = subjet_mask\n",
    "        hf['particle_mask'][num_batches_processed * batch_size:num_batches_processed * batch_size + num_new] = particle_mask\n",
    "\n",
    "        num_batches_processed += 1\n"
   ]
  },
  {
   "cell_type": "code",
   "execution_count": 15,
   "id": "49c4685a-e8aa-466c-97d1-1c9c970693b0",
   "metadata": {
    "execution": {
     "iopub.execute_input": "2024-08-29T23:23:45.241466Z",
     "iopub.status.busy": "2024-08-29T23:23:45.241206Z"
    }
   },
   "outputs": [],
   "source": [
    "from torch.utils.data import Dataset, DataLoader\n",
    "import torch\n",
    "import h5py\n",
    "\n",
    "class HDF5Dataset(Dataset):\n",
    "    def __init__(self, file_path):\n",
    "        with h5py.File(file_path, 'r') as self.file:\n",
    "            self.x = self.file['x'][:] # Load entire dataset into memory\n",
    "            self.particle_features = self.file['particle_features'][:]\n",
    "            self.subjets = self.file['subjets'][:]\n",
    "            self.particle_indices = self.file['particle_indices'][:]\n",
    "            self.subjet_mask = self.file['subjet_mask'][:]\n",
    "            self.particle_mask = self.file['particle_mask'][:]\n",
    "\n",
    "    def __len__(self):\n",
    "        return self.x.shape[0]\n",
    "\n",
    "    def __getitem__(self, idx):\n",
    "        # Directly return the data from memory\n",
    "        return (self.x[idx], self.particle_features[idx], self.subjets[idx],\n",
    "                self.particle_indices[idx], self.subjet_mask[idx], self.particle_mask[idx])\n",
    "\n",
    "# Usage\n",
    "tag = 'train'\n",
    "# dataset_path = f\"D:\\physic\\data\\processed_{tag}_20_30_torch.h5\"\n",
    "dataset_path = r\"D:\\physic\\data\\processed_val_20_30_torch.h5\"\n",
    "\n",
    "dataset = HDF5Dataset(dataset_path)\n"
   ]
  },
  {
   "cell_type": "code",
   "execution_count": 16,
   "id": "252a0d36-5dfe-4e7a-a26f-06484b1277f9",
   "metadata": {
    "execution": {
     "iopub.execute_input": "2024-08-29T22:53:08.319328Z",
     "iopub.status.busy": "2024-08-29T22:53:08.319052Z",
     "iopub.status.idle": "2024-08-29T22:53:19.806821Z",
     "shell.execute_reply": "2024-08-29T22:53:19.806341Z",
     "shell.execute_reply.started": "2024-08-29T22:53:08.319316Z"
    }
   },
   "outputs": [],
   "source": [
    "train_loader = DataLoader(dataset, batch_size=1000, shuffle=True)\n",
    "train_iter = iter(train_loader)\n",
    "for i in range(len(dataset) // 1000 + 1):\n",
    "    x, particle_features, subjets, particle_indices, subjet_mask, particle_mask = next(train_iter)"
   ]
  },
  {
   "cell_type": "code",
   "execution_count": 17,
   "id": "a80b5a01-7daf-474e-a698-c986f0e65fe9",
   "metadata": {
    "execution": {
     "iopub.execute_input": "2024-08-29T22:48:56.775099Z",
     "iopub.status.busy": "2024-08-29T22:48:56.774879Z",
     "iopub.status.idle": "2024-08-29T22:48:56.781483Z",
     "shell.execute_reply": "2024-08-29T22:48:56.777999Z",
     "shell.execute_reply.started": "2024-08-29T22:48:56.775086Z"
    }
   },
   "outputs": [
    {
     "data": {
      "text/plain": [
       "6452"
      ]
     },
     "execution_count": 17,
     "metadata": {},
     "output_type": "execute_result"
    }
   ],
   "source": [
    "len(dataset)"
   ]
  },
  {
   "cell_type": "code",
   "execution_count": null,
   "id": "dec98015",
   "metadata": {},
   "outputs": [],
   "source": []
  }
 ],
 "metadata": {
  "kernelspec": {
   "display_name": "Python 3 (ipykernel)",
   "language": "python",
   "name": "python3"
  },
  "language_info": {
   "codemirror_mode": {
    "name": "ipython",
    "version": 3
   },
   "file_extension": ".py",
   "mimetype": "text/x-python",
   "name": "python",
   "nbconvert_exporter": "python",
   "pygments_lexer": "ipython3",
   "version": "3.12.5"
  }
 },
 "nbformat": 4,
 "nbformat_minor": 5
}
