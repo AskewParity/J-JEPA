{
 "cells": [
  {
   "cell_type": "code",
   "execution_count": 1,
   "id": "174bd314",
   "metadata": {
    "execution": {
     "iopub.execute_input": "2024-10-03T00:06:09.611231Z",
     "iopub.status.busy": "2024-10-03T00:06:09.610864Z",
     "iopub.status.idle": "2024-10-03T00:06:09.698437Z",
     "shell.execute_reply": "2024-10-03T00:06:09.697735Z",
     "shell.execute_reply.started": "2024-10-03T00:06:09.611209Z"
    }
   },
   "outputs": [
    {
     "name": "stdout",
     "output_type": "stream",
     "text": [
      "File exists: /j-jepa-vol/J-JEPA/data/top/normalized/semi-processed/val/val_20_30.h5\n"
     ]
    }
   ],
   "source": [
    "import os\n",
    "tag = 'train'\n",
    "file_path = f\"/j-jepa-vol/J-JEPA/data/top/normalized/semi-processed/{tag}/{tag}_20_30.h5\"\n",
    "if os.path.exists(file_path):\n",
    "    print(f\"File exists: {file_path}\")\n",
    "else:\n",
    "    print(f\"File does not exist: {file_path}\")\n",
    "file_name = f\"processed_{tag}_20_30.h5\"\n",
    "dataset_path = f\"/j-jepa-vol/J-JEPA/data/top/normalized/{tag}/\"\n",
    "os.makedirs(dataset_path, exist_ok=True)\n",
    "out_path = dataset_path+file_name"
   ]
  },
  {
   "cell_type": "code",
   "execution_count": 2,
   "id": "5424c750-71d2-49b9-90b1-e2cd7db72807",
   "metadata": {
    "execution": {
     "iopub.execute_input": "2024-10-03T00:06:27.814565Z",
     "iopub.status.busy": "2024-10-03T00:06:27.814078Z",
     "iopub.status.idle": "2024-10-03T00:06:55.128849Z",
     "shell.execute_reply": "2024-10-03T00:06:55.120544Z",
     "shell.execute_reply.started": "2024-10-03T00:06:27.814532Z"
    }
   },
   "outputs": [
    {
     "name": "stdout",
     "output_type": "stream",
     "text": [
      "Initializing JetDataset with file: /j-jepa-vol/J-JEPA/data/top/normalized/semi-processed/val/val_20_30.h5\n",
      "Loading features and subjets from HDF5 file\n",
      "Filtered to 261239 good jets\n",
      "Final dataset size: 261239 jets\n",
      "__getitem__ returns (x, particle_features, subjets, indices, subjet_mask, particle_mask)\n"
     ]
    }
   ],
   "source": [
    "import random\n",
    "import h5py\n",
    "from JetDataset import JetDataset\n",
    "import torch\n",
    "from torch.utils.data import Dataset, DataLoader\n",
    "\n",
    "\n",
    "# train_dataset = JetDataset(f\"/mnt/d/physic/data/train_20_30_new.h5\", config=None)\n",
    "train_dataset = JetDataset(file_path)\n",
    "# Create a new HDF5 file\n",
    "# Usage\n",
    "# dataset_path = f\"D:\\physic\\data\\processed_{tag}_20_30_torch.h5\"\n",
    "\n",
    "\n"
   ]
  },
  {
   "cell_type": "code",
   "execution_count": 3,
   "id": "d40638be-d494-4bc2-b563-5c73f4e8a5ed",
   "metadata": {
    "execution": {
     "iopub.execute_input": "2024-10-03T00:07:08.433597Z",
     "iopub.status.busy": "2024-10-03T00:07:08.431979Z",
     "iopub.status.idle": "2024-10-03T00:12:28.263888Z",
     "shell.execute_reply": "2024-10-03T00:12:28.263147Z",
     "shell.execute_reply.started": "2024-10-03T00:07:08.433571Z"
    }
   },
   "outputs": [
    {
     "name": "stderr",
     "output_type": "stream",
     "text": [
      "100%|████████████████████████████████████████████████████████████████████████████████████████████████████████████████████████████████████████████████████████| 88/88 [01:46<00:00,  1.21s/it]\n",
      "100%|████████████████████████████████████████████████████████████████████████████████████████████████████████████████████████████████████████████████████████| 88/88 [01:46<00:00,  1.21s/it]\n",
      "100%|████████████████████████████████████████████████████████████████████████████████████████████████████████████████████████████████████████████████████████| 88/88 [01:44<00:00,  1.18s/it]\n"
     ]
    }
   ],
   "source": [
    "from tqdm import tqdm\n",
    "import h5py\n",
    "import torch\n",
    "import numpy as np\n",
    "from torch.utils.data import DataLoader, Subset\n",
    "\n",
    "# Initialize DataLoader\n",
    "batch_size = 1000\n",
    "total_data = len(train_dataset)\n",
    "part_size = total_data // 3\n",
    "\n",
    "# Create three parts of the dataset\n",
    "datasets = [Subset(train_dataset, range(i * part_size, (i + 1) * part_size)) for i in range(3)]\n",
    "if total_data % 3 != 0:  # Handle the remainder\n",
    "    datasets[-1] = Subset(train_dataset, range(2 * part_size, total_data))\n",
    "\n",
    "# Function to process and save each part\n",
    "def process_and_save(part_data, file_path):\n",
    "    train_loader = DataLoader(part_data, batch_size=batch_size, shuffle=True)\n",
    "    with h5py.File(file_path, 'w') as hf:\n",
    "        first_batch = next(iter(train_loader))\n",
    "        num_subjets = first_batch[0].shape[1]\n",
    "        num_ptcls_per_subjet = first_batch[0].shape[2]\n",
    "        num_ptcl_ftrs = first_batch[0].shape[3]\n",
    "        num_ptcls_per_jet = first_batch[1].shape[1]\n",
    "        num_subjet_ftrs = first_batch[2].shape[2]\n",
    "\n",
    "        hf.create_dataset('x', shape=(0, num_subjets, num_ptcls_per_subjet, num_ptcl_ftrs), maxshape=(None, num_subjets, num_ptcls_per_subjet, num_ptcl_ftrs), dtype='float32')\n",
    "        hf.create_dataset('particle_features', shape=(0, num_ptcls_per_jet, num_ptcl_ftrs), maxshape=(None, num_ptcls_per_jet, num_ptcl_ftrs), dtype='float64')\n",
    "        hf.create_dataset('subjets', shape=(0, num_subjets, num_subjet_ftrs), maxshape=(None, num_subjets, num_subjet_ftrs), dtype='float64')\n",
    "        hf.create_dataset('particle_indices', shape=(0, num_subjets, num_ptcls_per_subjet), maxshape=(None, num_subjets, num_ptcls_per_subjet), dtype='int32')\n",
    "        hf.create_dataset('subjet_mask', shape=(0, num_subjets), maxshape=(None, num_subjets), dtype='bool')\n",
    "        hf.create_dataset('particle_mask', shape=(0, num_subjets, num_ptcls_per_subjet), maxshape=(None, num_subjets, num_ptcls_per_subjet), dtype='bool')\n",
    "\n",
    "        num_batches_processed = 0\n",
    "        for data in tqdm(train_loader):\n",
    "            x, particle_features, subjets, particle_indices, subjet_mask, particle_mask = [d.detach().cpu() for d in data]\n",
    "            num_new = x.shape[0]\n",
    "            particle_indices = particle_indices.to(torch.int32)\n",
    "            subjet_mask = subjet_mask.to(torch.int32)\n",
    "            particle_mask = particle_mask.to(torch.int32)\n",
    "            \n",
    "            hf['x'].resize(num_batches_processed * batch_size + num_new, axis=0)\n",
    "            hf['particle_features'].resize(num_batches_processed * batch_size + num_new, axis=0)\n",
    "            hf['subjets'].resize(num_batches_processed * batch_size + num_new, axis=0)\n",
    "            hf['particle_indices'].resize(num_batches_processed * batch_size + num_new, axis=0)\n",
    "            hf['subjet_mask'].resize(num_batches_processed * batch_size + num_new, axis=0)\n",
    "            hf['particle_mask'].resize(num_batches_processed * batch_size + num_new, axis=0)\n",
    "            \n",
    "            hf['x'][num_batches_processed * batch_size:num_batches_processed * batch_size + num_new] = x\n",
    "            hf['particle_features'][num_batches_processed * batch_size:num_batches_processed * batch_size + num_new] = particle_features\n",
    "            hf['subjets'][num_batches_processed * batch_size:num_batches_processed * batch_size + num_new] = subjets\n",
    "            hf['particle_indices'][num_batches_processed * batch_size:num_batches_processed * batch_size + num_new] = particle_indices\n",
    "            hf['subjet_mask'][num_batches_processed * batch_size:num_batches_processed * batch_size + num_new] = subjet_mask\n",
    "            hf['particle_mask'][num_batches_processed * batch_size:num_batches_processed * batch_size + num_new] = particle_mask\n",
    "            \n",
    "            num_batches_processed += 1\n",
    "\n",
    "# Save each part to a separate file\n",
    "for i, dataset in enumerate(datasets):\n",
    "    file_path = f\"{out_path}_p{i+1}.hdf5\"\n",
    "    process_and_save(dataset, file_path)\n"
   ]
  },
  {
   "cell_type": "code",
   "execution_count": 4,
   "id": "536e0c0b-e9ed-48af-a267-9b76b0cc0dbd",
   "metadata": {
    "execution": {
     "iopub.execute_input": "2024-10-03T00:12:28.265477Z",
     "iopub.status.busy": "2024-10-03T00:12:28.265219Z",
     "iopub.status.idle": "2024-10-03T00:12:57.832242Z",
     "shell.execute_reply": "2024-10-03T00:12:57.827828Z",
     "shell.execute_reply.started": "2024-10-03T00:12:28.265460Z"
    }
   },
   "outputs": [
    {
     "name": "stdout",
     "output_type": "stream",
     "text": [
      "Loading processed_val_20_30.h5_p2.hdf5\n",
      "Loaded processed_val_20_30.h5_p2.hdf5\n",
      "Loading processed_val_20_30.h5_p1.hdf5\n",
      "Loaded processed_val_20_30.h5_p1.hdf5\n",
      "Loading processed_val_20_30.h5_p3.hdf5\n",
      "Loaded processed_val_20_30.h5_p3.hdf5\n"
     ]
    }
   ],
   "source": [
    "from torch.utils.data import Dataset, DataLoader\n",
    "import torch\n",
    "import h5py\n",
    "import os\n",
    "import numpy as np\n",
    "\n",
    "class HDF5Dataset(Dataset):\n",
    "    def __init__(self, directory_path):\n",
    "        # Initialize empty lists to store the datasets\n",
    "        x_list, particle_features_list, subjets_list = [], [], []\n",
    "        particle_indices_list, subjet_mask_list, particle_mask_list = [], [], []\n",
    "\n",
    "        # Loop through each file in the directory\n",
    "        for filename in os.listdir(directory_path):\n",
    "            if filename.endswith(\".hdf5\"):\n",
    "                file_path = os.path.join(directory_path, filename)\n",
    "                with h5py.File(file_path, 'r') as file:\n",
    "                    # Append each dataset to the corresponding list\n",
    "                    print(f\"Loading {filename}\")\n",
    "                    x_list.append(file['x'][:])\n",
    "                    particle_features_list.append(file['particle_features'][:])\n",
    "                    subjets_list.append(file['subjets'][:])\n",
    "                    particle_indices_list.append(file['particle_indices'][:])\n",
    "                    subjet_mask_list.append(file['subjet_mask'][:])\n",
    "                    particle_mask_list.append(file['particle_mask'][:])\n",
    "                print(f\"Loaded {filename}\")\n",
    "\n",
    "        # Concatenate all datasets from all files\n",
    "        self.x = np.concatenate(x_list, axis=0)\n",
    "        self.particle_features = np.concatenate(particle_features_list, axis=0)\n",
    "        self.subjets = np.concatenate(subjets_list, axis=0)\n",
    "        self.particle_indices = np.concatenate(particle_indices_list, axis=0)\n",
    "        self.subjet_mask = np.concatenate(subjet_mask_list, axis=0)\n",
    "        self.particle_mask = np.concatenate(particle_mask_list, axis=0)\n",
    "\n",
    "    def __len__(self):\n",
    "        return self.x.shape[0]\n",
    "\n",
    "    def __getitem__(self, idx):\n",
    "        return (self.x[idx], self.particle_features[idx], self.subjets[idx],\n",
    "                self.particle_indices[idx], self.subjet_mask[idx], self.particle_mask[idx])\n",
    "\n",
    "# Usage example\n",
    "dataset = HDF5Dataset(dataset_path)\n"
   ]
  },
  {
   "cell_type": "code",
   "execution_count": 5,
   "id": "d04b7d3d-6f73-4efa-ba44-bd722153499e",
   "metadata": {
    "execution": {
     "iopub.execute_input": "2024-10-03T00:14:13.182887Z",
     "iopub.status.busy": "2024-10-03T00:14:13.182491Z",
     "iopub.status.idle": "2024-10-03T00:14:13.192647Z",
     "shell.execute_reply": "2024-10-03T00:14:13.192160Z",
     "shell.execute_reply.started": "2024-10-03T00:14:13.182868Z"
    }
   },
   "outputs": [
    {
     "data": {
      "text/plain": [
       "261239"
      ]
     },
     "execution_count": 5,
     "metadata": {},
     "output_type": "execute_result"
    }
   ],
   "source": [
    "len(dataset)"
   ]
  },
  {
   "cell_type": "markdown",
   "id": "404b1a44-d40d-4b49-9c84-e7378e701d28",
   "metadata": {},
   "source": [
    "# Save everything into a single file (works for file sizes < 5GB)"
   ]
  },
  {
   "cell_type": "code",
   "execution_count": 10,
   "id": "1445e6df-b090-44e5-87d6-e8fa03c7d1ec",
   "metadata": {
    "execution": {
     "iopub.execute_input": "2024-09-11T23:10:39.467056Z",
     "iopub.status.busy": "2024-09-11T23:10:39.466701Z",
     "iopub.status.idle": "2024-09-11T23:10:40.717101Z",
     "shell.execute_reply": "2024-09-11T23:10:40.716496Z",
     "shell.execute_reply.started": "2024-09-11T23:10:39.467031Z"
    }
   },
   "outputs": [
    {
     "name": "stderr",
     "output_type": "stream",
     "text": [
      "100%|██████████████████████████████████████████████████████████████████████████████████████████████████████████████████████████████████████████████████████████| 1/1 [00:00<00:00,  1.64it/s]\n"
     ]
    }
   ],
   "source": [
    "from tqdm import tqdm\n",
    "import h5py\n",
    "import torch\n",
    "import numpy as np\n",
    "from torch.utils.data import DataLoader\n",
    "tag=\"val\"\n",
    "file_name = f\"processed_{tag}_20_30_small.h5\"\n",
    "dataset_path = f\"/j-jepa-vol/J-JEPA/data/small/\"\n",
    "os.makedirs(dataset_path, exist_ok=True)\n",
    "out_path = dataset_path+file_name\n",
    "\n",
    "# Initialize DataLoader\n",
    "batch_size = 1000\n",
    "train_loader = DataLoader(train_dataset, batch_size=batch_size, shuffle=True)\n",
    "\n",
    "\n",
    "\n",
    "with h5py.File(out_path, 'w') as hf:\n",
    "    # Get the first batch to determine sizes\n",
    "    first_batch = next(iter(train_loader))\n",
    "    num_jets = len(train_dataset)\n",
    "    num_subjets = first_batch[0].shape[1]\n",
    "    num_ptcls_per_subjet = first_batch[0].shape[2]\n",
    "    num_ptcl_ftrs = first_batch[0].shape[3]\n",
    "    num_ptcls_per_jet = first_batch[1].shape[1]\n",
    "    num_subjet_ftrs = first_batch[2].shape[2]\n",
    "\n",
    "    # Initialize datasets with extendable dimensions in the first dimension\n",
    "    hf.create_dataset('x', shape=(0, num_subjets, num_ptcls_per_subjet, num_ptcl_ftrs), maxshape=(None, num_subjets, num_ptcls_per_subjet, num_ptcl_ftrs), dtype='float32')\n",
    "    hf.create_dataset('particle_features', shape=(0, num_ptcls_per_jet, num_ptcl_ftrs), maxshape=(None, num_ptcls_per_jet, num_ptcl_ftrs), dtype='float64')\n",
    "    hf.create_dataset('subjets', shape=(0, num_subjets, num_subjet_ftrs), maxshape=(None, num_subjets, num_subjet_ftrs), dtype='float64')\n",
    "    hf.create_dataset('particle_indices', shape=(0, num_subjets, num_ptcls_per_subjet), maxshape=(None, num_subjets, num_ptcls_per_subjet), dtype='int32')\n",
    "    hf.create_dataset('subjet_mask', shape=(0, num_subjets), maxshape=(None, num_subjets), dtype='bool')\n",
    "    hf.create_dataset('particle_mask', shape=(0, num_subjets, num_ptcls_per_subjet), maxshape=(None, num_subjets, num_ptcls_per_subjet), dtype='bool')\n",
    "\n",
    "    # Write batches to HDF5\n",
    "    num_batches_processed = 0\n",
    "    for data in tqdm(train_loader):\n",
    "        x, particle_features, subjets, particle_indices, subjet_mask, particle_mask = [d.detach().cpu() for d in data]\n",
    "\n",
    "        # convert to appropriate data types\n",
    "\n",
    "        # Number of new data points\n",
    "        num_new = x.shape[0]\n",
    "        # particle_indices = particle_indices.astype(np.int32)\n",
    "        # subjet_mask = subjet_mask.astype(np.int32)\n",
    "        # particle_mask = particle_mask.astype(np.int32)\n",
    "\n",
    "        particle_indices = particle_indices.to(torch.int32)\n",
    "        subjet_mask = subjet_mask.to(torch.int32)\n",
    "        particle_mask = particle_mask.to(torch.int32)\n",
    "\n",
    "        # Resize datasets to accommodate new data\n",
    "        hf['x'].resize(num_batches_processed * batch_size + num_new, axis=0)\n",
    "        hf['particle_features'].resize(num_batches_processed * batch_size + num_new, axis=0)\n",
    "        hf['subjets'].resize(num_batches_processed * batch_size + num_new, axis=0)\n",
    "        hf['particle_indices'].resize(num_batches_processed * batch_size + num_new, axis=0)\n",
    "        hf['subjet_mask'].resize(num_batches_processed * batch_size + num_new, axis=0)\n",
    "        hf['particle_mask'].resize(num_batches_processed * batch_size + num_new, axis=0)\n",
    "\n",
    "        # Append new data\n",
    "        hf['x'][num_batches_processed * batch_size:num_batches_processed * batch_size + num_new] = x\n",
    "        hf['particle_features'][num_batches_processed * batch_size:num_batches_processed * batch_size + num_new] = particle_features\n",
    "        hf['subjets'][num_batches_processed * batch_size:num_batches_processed * batch_size + num_new] = subjets\n",
    "        hf['particle_indices'][num_batches_processed * batch_size:num_batches_processed * batch_size + num_new] = particle_indices\n",
    "        hf['subjet_mask'][num_batches_processed * batch_size:num_batches_processed * batch_size + num_new] = subjet_mask\n",
    "        hf['particle_mask'][num_batches_processed * batch_size:num_batches_processed * batch_size + num_new] = particle_mask\n",
    "\n",
    "        num_batches_processed += 1\n"
   ]
  },
  {
   "cell_type": "code",
   "execution_count": null,
   "id": "49c4685a-e8aa-466c-97d1-1c9c970693b0",
   "metadata": {
    "execution": {
     "iopub.execute_input": "2024-10-02T01:40:21.256958Z",
     "iopub.status.busy": "2024-10-02T01:40:21.254911Z"
    }
   },
   "outputs": [],
   "source": [
    "from torch.utils.data import Dataset, DataLoader\n",
    "import torch\n",
    "import h5py\n",
    "\n",
    "class HDF5Dataset(Dataset):\n",
    "    def __init__(self, file_path):\n",
    "        with h5py.File(file_path, 'r') as self.file:\n",
    "            self.x = self.file['x'][:] # Load entire dataset into memory\n",
    "            self.particle_features = self.file['particle_features'][:]\n",
    "            self.subjets = self.file['subjets'][:]\n",
    "            self.particle_indices = self.file['particle_indices'][:]\n",
    "            self.subjet_mask = self.file['subjet_mask'][:]\n",
    "            self.particle_mask = self.file['particle_mask'][:]\n",
    "\n",
    "    def __len__(self):\n",
    "        return self.x.shape[0]\n",
    "\n",
    "    def __getitem__(self, idx):\n",
    "        # Directly return the data from memory\n",
    "        return (self.x[idx], self.particle_features[idx], self.subjets[idx],\n",
    "                self.particle_indices[idx], self.subjet_mask[idx], self.particle_mask[idx])\n",
    "\n",
    "# Usage\n",
    "\n",
    "file_name = f\"processed_{tag}_20_30.h5\"\n",
    "dataset_path = f\"/j-jepa-vol/J-JEPA/data/top/val/\"\n",
    "dataset = HDF5Dataset(dataset_path+file_name)\n"
   ]
  },
  {
   "cell_type": "code",
   "execution_count": 5,
   "id": "252a0d36-5dfe-4e7a-a26f-06484b1277f9",
   "metadata": {
    "execution": {
     "iopub.execute_input": "2024-09-11T21:09:24.151319Z",
     "iopub.status.busy": "2024-09-11T21:09:24.151061Z",
     "iopub.status.idle": "2024-09-11T21:09:33.391963Z",
     "shell.execute_reply": "2024-09-11T21:09:33.391318Z",
     "shell.execute_reply.started": "2024-09-11T21:09:24.151291Z"
    }
   },
   "outputs": [],
   "source": [
    "train_loader = DataLoader(dataset, batch_size=1000, shuffle=True)\n",
    "train_iter = iter(train_loader)\n",
    "for i in range(len(dataset) // 1000 + 1):\n",
    "    x, particle_features, subjets, particle_indices, subjet_mask, particle_mask = next(train_iter)"
   ]
  },
  {
   "cell_type": "code",
   "execution_count": 4,
   "id": "a80b5a01-7daf-474e-a698-c986f0e65fe9",
   "metadata": {
    "execution": {
     "iopub.execute_input": "2024-09-11T21:51:42.446158Z",
     "iopub.status.busy": "2024-09-11T21:51:42.445569Z",
     "iopub.status.idle": "2024-09-11T21:51:42.454441Z",
     "shell.execute_reply": "2024-09-11T21:51:42.453694Z",
     "shell.execute_reply.started": "2024-09-11T21:51:42.446132Z"
    }
   },
   "outputs": [
    {
     "data": {
      "text/plain": [
       "261878"
      ]
     },
     "execution_count": 4,
     "metadata": {},
     "output_type": "execute_result"
    }
   ],
   "source": [
    "len(dataset)"
   ]
  },
  {
   "cell_type": "code",
   "execution_count": 18,
   "id": "dec98015",
   "metadata": {
    "execution": {
     "iopub.execute_input": "2024-10-02T02:18:50.711147Z",
     "iopub.status.busy": "2024-10-02T02:18:50.710672Z",
     "iopub.status.idle": "2024-10-02T02:18:50.749480Z",
     "shell.execute_reply": "2024-10-02T02:18:50.748863Z",
     "shell.execute_reply.started": "2024-10-02T02:18:50.711119Z"
    }
   },
   "outputs": [],
   "source": [
    "from torch.utils.data import Dataset\n",
    "import torch\n",
    "import h5py\n",
    "import os\n",
    "import numpy as np\n",
    "\n",
    "class JEPADataset(Dataset):\n",
    "    def __init__(self, directory_path, num_jets=None):\n",
    "        # Initialize empty lists to store the datasets\n",
    "        x_list, particle_features_list, subjets_list = [], [], []\n",
    "        particle_indices_list, subjet_mask_list, particle_mask_list = [], [], []\n",
    "\n",
    "        # Loop through each file in the directory\n",
    "        for filename in os.listdir(directory_path):\n",
    "            if filename.endswith(\".hdf5\") or filename.endswith(\".h5\"):\n",
    "                file_path = os.path.join(directory_path, filename)\n",
    "                with h5py.File(file_path, 'r') as file:\n",
    "                    # Append each dataset to the corresponding list\n",
    "                    print(f\"Loading {filename}\")\n",
    "                    x_list.append(file['x'][:])\n",
    "                    particle_features_list.append(file['particle_features'][:])\n",
    "                    subjets_list.append(file['subjets'][:])\n",
    "                    particle_indices_list.append(file['particle_indices'][:])\n",
    "                    subjet_mask_list.append(file['subjet_mask'][:])\n",
    "                    particle_mask_list.append(file['particle_mask'][:])\n",
    "                print(f\"Loaded {filename}\")\n",
    "\n",
    "        # Concatenate all datasets from all files\n",
    "        self.x = np.concatenate(x_list, axis=0)\n",
    "        self.particle_features = np.concatenate(particle_features_list, axis=0)\n",
    "        self.subjets = np.concatenate(subjets_list, axis=0)\n",
    "        self.particle_indices = np.concatenate(particle_indices_list, axis=0)\n",
    "        self.subjet_mask = np.concatenate(subjet_mask_list, axis=0)\n",
    "        self.particle_mask = np.concatenate(particle_mask_list, axis=0)\n",
    "\n",
    "        if num_jets:\n",
    "            self.x = self.x[:num_jets]\n",
    "            self.particle_features = self.particle_features[:num_jets]\n",
    "            self.subjets = self.subjets[:num_jets]\n",
    "            self.particle_indices = self.particle_indices[:num_jets]\n",
    "            self.subjet_mask = self.subjet_mask[:num_jets]\n",
    "            self.particle_mask = self.particle_mask[:num_jets]\n",
    "\n",
    "    def __len__(self):\n",
    "        return self.x.shape[0]\n",
    "\n",
    "    def __getitem__(self, idx):\n",
    "        return (self.x[idx], self.particle_features[idx], self.subjets[idx],\n",
    "                self.particle_indices[idx], self.subjet_mask[idx], self.particle_mask[idx])"
   ]
  },
  {
   "cell_type": "code",
   "execution_count": null,
   "id": "8fea6e66-c7da-46c2-80bf-2a78a382e556",
   "metadata": {},
   "outputs": [],
   "source": []
  }
 ],
 "metadata": {
  "kernelspec": {
   "display_name": "Python 3 (ipykernel)",
   "language": "python",
   "name": "python3"
  },
  "language_info": {
   "codemirror_mode": {
    "name": "ipython",
    "version": 3
   },
   "file_extension": ".py",
   "mimetype": "text/x-python",
   "name": "python",
   "nbconvert_exporter": "python",
   "pygments_lexer": "ipython3",
   "version": "3.11.5"
  }
 },
 "nbformat": 4,
 "nbformat_minor": 5
}
