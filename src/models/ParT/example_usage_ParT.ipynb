{
 "cells": [
  {
   "cell_type": "markdown",
   "id": "bce5e9be-c950-43fb-88af-25f251b05e31",
   "metadata": {},
   "source": [
    "## Paper: https://arxiv.org/abs/2202.03772v2"
   ]
  },
  {
   "cell_type": "code",
   "execution_count": 1,
   "id": "d45217fe-927f-495f-b091-61c7f00267a5",
   "metadata": {
    "execution": {
     "iopub.execute_input": "2024-10-04T22:14:19.154919Z",
     "iopub.status.busy": "2024-10-04T22:14:19.154782Z",
     "iopub.status.idle": "2024-10-04T22:14:20.916929Z",
     "shell.execute_reply": "2024-10-04T22:14:20.916365Z",
     "shell.execute_reply.started": "2024-10-04T22:14:19.154900Z"
    }
   },
   "outputs": [],
   "source": [
    "import sys\n",
    "import os\n",
    "from tqdm import tqdm\n",
    "import numpy as np\n",
    "# load torch modules\n",
    "\n",
    "import torch\n",
    "import torch.nn as nn\n",
    "import torch.nn.functional as F\n",
    "from torch.utils.data import DataLoader\n",
    "import torch.optim as optim\n",
    "import glob\n",
    "import gc"
   ]
  },
  {
   "cell_type": "code",
   "execution_count": 2,
   "id": "b71a4a58-bc8b-4665-b4dc-d2589af1eadb",
   "metadata": {
    "execution": {
     "iopub.execute_input": "2024-10-04T22:14:20.918427Z",
     "iopub.status.busy": "2024-10-04T22:14:20.918178Z",
     "iopub.status.idle": "2024-10-04T22:14:21.094477Z",
     "shell.execute_reply": "2024-10-04T22:14:21.093995Z",
     "shell.execute_reply.started": "2024-10-04T22:14:20.918408Z"
    }
   },
   "outputs": [],
   "source": [
    "sys.path.insert(0, \"../../\")\n",
    "from models.ParT.ParticleTransformerEncoder import ParTEncoder\n",
    "from models.ParT.utils import calculate_cartesian_components, generate_mask\n",
    "from dataset.ParticleDataset import ParticleDataset"
   ]
  },
  {
   "cell_type": "code",
   "execution_count": 3,
   "id": "3c409dff-d2d9-4c69-b51e-c2ce24855bf6",
   "metadata": {
    "execution": {
     "iopub.execute_input": "2024-10-04T22:14:21.095226Z",
     "iopub.status.busy": "2024-10-04T22:14:21.095073Z",
     "iopub.status.idle": "2024-10-04T22:14:22.198052Z",
     "shell.execute_reply": "2024-10-04T22:14:22.197478Z",
     "shell.execute_reply.started": "2024-10-04T22:14:21.095210Z"
    }
   },
   "outputs": [
    {
     "name": "stdout",
     "output_type": "stream",
     "text": [
      "Device 0: NVIDIA A100-SXM4-80GB\n"
     ]
    }
   ],
   "source": [
    "world_size = torch.cuda.device_count()\n",
    "if world_size:\n",
    "    device = torch.device(\"cuda:0\")\n",
    "    for i in range(world_size):\n",
    "        print(\n",
    "            f\"Device {i}: {torch.cuda.get_device_name(i)}\", flush=True\n",
    "        )\n",
    "else:\n",
    "    device = torch.device(\"cpu\")\n",
    "    print(\"Device: CPU\", file=logfile, flush=True)"
   ]
  },
  {
   "cell_type": "markdown",
   "id": "c90afcdd-67ee-4287-acea-76ec66ee6136",
   "metadata": {},
   "source": [
    "# Load some data"
   ]
  },
  {
   "cell_type": "code",
   "execution_count": 4,
   "id": "b8892d18-8736-471f-ba3b-fdfb2919b87b",
   "metadata": {
    "execution": {
     "iopub.execute_input": "2024-10-04T22:14:22.198932Z",
     "iopub.status.busy": "2024-10-04T22:14:22.198773Z",
     "iopub.status.idle": "2024-10-04T22:14:22.201746Z",
     "shell.execute_reply": "2024-10-04T22:14:22.201313Z",
     "shell.execute_reply.started": "2024-10-04T22:14:22.198916Z"
    }
   },
   "outputs": [],
   "source": [
    "def load_data(dataset_path, flag, num_jets, return_labels=True):\n",
    "    dataset_path += f\"/{flag}\"\n",
    "    dataset = ParticleDataset(dataset_path, num_jets=num_jets, return_labels=return_labels)\n",
    "    return dataset"
   ]
  },
  {
   "cell_type": "code",
   "execution_count": 5,
   "id": "98b8dd6e-7dce-41d8-978b-63d226e7af1b",
   "metadata": {
    "execution": {
     "iopub.execute_input": "2024-10-04T22:14:22.202351Z",
     "iopub.status.busy": "2024-10-04T22:14:22.202218Z",
     "iopub.status.idle": "2024-10-04T22:14:26.488688Z",
     "shell.execute_reply": "2024-10-04T22:14:26.488124Z",
     "shell.execute_reply.started": "2024-10-04T22:14:22.202338Z"
    }
   },
   "outputs": [
    {
     "name": "stdout",
     "output_type": "stream",
     "text": [
      "Loading /j-jepa-vol/J-JEPA/data/top/ptcl/val/val.h5\n",
      "Loaded /j-jepa-vol/J-JEPA/data/top/ptcl/val/val.h5\n",
      "__getitem__ returns ['p3 (px, py, pz)', 'p4 (eta, phi, log_pt, log_e)', 'mask', 'labels']\n"
     ]
    }
   ],
   "source": [
    "dataset = load_data(\"/j-jepa-vol/J-JEPA/data/top/ptcl\", \"val\", 100)"
   ]
  },
  {
   "cell_type": "markdown",
   "id": "3c8caecc-bc95-4bbb-9592-59173ae8a32b",
   "metadata": {},
   "source": [
    "# Forward pass"
   ]
  },
  {
   "cell_type": "code",
   "execution_count": 7,
   "id": "b54ce7d0-46be-4c38-8393-ec839c05fe36",
   "metadata": {
    "execution": {
     "iopub.execute_input": "2024-10-04T22:14:26.502641Z",
     "iopub.status.busy": "2024-10-04T22:14:26.502482Z",
     "iopub.status.idle": "2024-10-04T22:14:32.453093Z",
     "shell.execute_reply": "2024-10-04T22:14:32.452387Z",
     "shell.execute_reply.started": "2024-10-04T22:14:26.502626Z"
    }
   },
   "outputs": [
    {
     "name": "stdout",
     "output_type": "stream",
     "text": [
      "shape of v: torch.Size([100, 4, 128])\n",
      "tensor([[[3.0240, 1.3514, 0.0000,  ..., 0.0000, 0.0000, 1.3728],\n",
      "         [1.1285, 0.9192, 0.0000,  ..., 0.0000, 0.0000, 0.6837],\n",
      "         [1.3783, 1.9105, 0.0000,  ..., 0.0000, 0.0000, 0.0000],\n",
      "         ...,\n",
      "         [1.3494, 0.7728, 0.0000,  ..., 0.0000, 0.0000, 0.3054],\n",
      "         [0.6055, 0.8452, 0.0000,  ..., 0.0000, 0.0000, 0.0000],\n",
      "         [0.0000, 0.0000, 0.0000,  ..., 0.0000, 0.0000, 0.0000]],\n",
      "\n",
      "        [[1.8740, 0.0000, 0.0000,  ..., 0.0000, 0.0000, 1.1576],\n",
      "         [0.5093, 0.7756, 0.0000,  ..., 0.0000, 0.0000, 1.2010],\n",
      "         [2.5054, 0.0000, 0.0000,  ..., 0.0000, 0.0000, 0.9615],\n",
      "         ...,\n",
      "         [0.8155, 0.1519, 0.0000,  ..., 0.0000, 0.0000, 0.1201],\n",
      "         [1.6900, 0.8803, 0.0000,  ..., 0.0000, 0.0000, 0.0000],\n",
      "         [0.0000, 0.0000, 0.0000,  ..., 0.0000, 0.0000, 0.0000]],\n",
      "\n",
      "        [[1.7024, 0.1628, 0.0000,  ..., 0.0000, 0.0000, 0.5405],\n",
      "         [2.0470, 1.0934, 0.0000,  ..., 0.0000, 0.0000, 0.7562],\n",
      "         [0.0000, 0.0000, 0.0000,  ..., 0.0000, 0.0000, 0.5055],\n",
      "         ...,\n",
      "         [0.0000, 0.0000, 0.0000,  ..., 0.0000, 0.0000, 0.3298],\n",
      "         [1.6585, 1.0660, 0.0000,  ..., 0.0000, 0.0000, 0.0000],\n",
      "         [0.0000, 0.0000, 0.0000,  ..., 0.0000, 0.0000, 0.0000]],\n",
      "\n",
      "        ...,\n",
      "\n",
      "        [[2.0722, 0.0000, 0.0000,  ..., 0.0000, 0.0000, 1.8915],\n",
      "         [0.1136, 0.0000, 0.0000,  ..., 0.0000, 0.0000, 1.1067],\n",
      "         [1.1114, 0.0000, 0.0000,  ..., 0.0000, 0.0000, 0.0000],\n",
      "         ...,\n",
      "         [0.0000, 0.0000, 0.0000,  ..., 0.0000, 0.0000, 0.0000],\n",
      "         [1.3631, 0.0000, 0.0000,  ..., 0.0000, 0.0000, 0.0000],\n",
      "         [0.0000, 0.0000, 0.0000,  ..., 0.0000, 0.0000, 0.0000]],\n",
      "\n",
      "        [[0.8563, 0.0000, 0.0000,  ..., 0.0000, 0.0000, 0.0000],\n",
      "         [0.0000, 1.5975, 0.0000,  ..., 0.0000, 0.0000, 0.2296],\n",
      "         [0.2512, 0.0000, 0.0000,  ..., 0.0000, 0.0000, 0.0000],\n",
      "         ...,\n",
      "         [0.0000, 0.0000, 0.0000,  ..., 0.0000, 0.0000, 0.0000],\n",
      "         [1.7260, 0.4904, 0.0000,  ..., 0.0000, 0.0000, 0.0000],\n",
      "         [0.2779, 0.0000, 0.0000,  ..., 0.0000, 0.0000, 0.3508]],\n",
      "\n",
      "        [[1.6100, 0.0000, 0.0000,  ..., 0.0000, 0.0000, 1.4635],\n",
      "         [0.1855, 1.9902, 0.0000,  ..., 0.0000, 0.0000, 0.9895],\n",
      "         [1.2652, 0.0000, 0.0000,  ..., 0.0000, 0.0000, 0.0000],\n",
      "         ...,\n",
      "         [0.0000, 0.3458, 0.0000,  ..., 0.0000, 0.0000, 0.0000],\n",
      "         [1.1141, 2.0004, 0.0000,  ..., 0.0000, 0.0000, 0.0000],\n",
      "         [0.0000, 0.0000, 0.0000,  ..., 0.0000, 0.0000, 0.0000]]],\n",
      "       device='cuda:0', grad_fn=<ReluBackward0>)\n"
     ]
    },
    {
     "name": "stderr",
     "output_type": "stream",
     "text": [
      "/opt/conda/lib/python3.11/site-packages/torch/nn/functional.py:4999: UserWarning: Support for mismatched key_padding_mask and attn_mask is deprecated. Use same type for both instead.\n",
      "  warnings.warn(\n"
     ]
    }
   ],
   "source": [
    "mean_log_e, std_log_e = dataset.stats['part_e_log']\n",
    "log_e = dataset.p4[:, -1, :] * std_log_e + mean_log_e\n",
    "norm_energy = torch.exp(torch.from_numpy(log_e)) * torch.from_numpy(dataset.mask) \n",
    "energy = norm_energy \n",
    "v = torch.cat([torch.from_numpy(dataset.p3), energy.view(energy.shape[0], 1, -1)], dim=1).to(device)\n",
    "print(\"shape of v:\", v.shape)  # Should print (batch_size, 4, 50)\n",
    "\n",
    "output_dim = 128\n",
    "fc_params = [(128, 0.05), (256, 0.05), (512, 0.05)]\n",
    "fc_params = [(128, 0.)]\n",
    "encoder = ParTEncoder(input_dim=4, embed_dims=[128, 512, output_dim], fc_params=fc_params).to(\n",
    "    device\n",
    ")  # the last embedding dimension is also the dimension after attention (before fc projector specified by fc_params)\n",
    "print(encoder)\n",
    "mask = torch.from_numpy(dataset.mask).view(dataset.mask.shape[0], 1, -1).to(device, torch.bool)\n",
    "reps = encoder(torch.from_numpy(dataset.p4).to(device, torch.float32), v.to(torch.float32), mask)\n",
    "print(reps)\n",
    "print(\"shape of latent space:\", reps.shape) # Should print (batch_size, output_dim)\n",
    "del dataset\n",
    "gc.collect()"
   ]
  },
  {
   "cell_type": "markdown",
   "id": "25c79fc5-31c9-4ed6-91fe-d5b0d494162d",
   "metadata": {},
   "source": [
    "# Training ParticleTransformerEncoder with a linear classification layer"
   ]
  },
  {
   "cell_type": "code",
   "execution_count": 8,
   "id": "5bfc9602-a42a-49fd-bed9-b3c24a47d122",
   "metadata": {
    "execution": {
     "iopub.execute_input": "2024-10-04T22:14:32.454187Z",
     "iopub.status.busy": "2024-10-04T22:14:32.454010Z",
     "iopub.status.idle": "2024-10-04T22:14:36.016028Z",
     "shell.execute_reply": "2024-10-04T22:14:36.015274Z",
     "shell.execute_reply.started": "2024-10-04T22:14:32.454168Z"
    }
   },
   "outputs": [
    {
     "name": "stdout",
     "output_type": "stream",
     "text": [
      "Loading /j-jepa-vol/J-JEPA/data/top/ptcl/val/val.h5\n",
      "Loaded /j-jepa-vol/J-JEPA/data/top/ptcl/val/val.h5\n",
      "__getitem__ returns ['p3 (px, py, pz)', 'p4 (eta, phi, log_pt, log_e)', 'mask', 'labels']\n"
     ]
    }
   ],
   "source": [
    "dataset = load_data(\"/j-jepa-vol/J-JEPA/data/top/ptcl\", \"val\", 10000)"
   ]
  },
  {
   "cell_type": "code",
   "execution_count": 9,
   "id": "40bde42f-f330-4576-98f2-24e8ac22fc53",
   "metadata": {
    "execution": {
     "iopub.execute_input": "2024-10-04T22:14:36.016968Z",
     "iopub.status.busy": "2024-10-04T22:14:36.016816Z",
     "iopub.status.idle": "2024-10-04T22:48:31.764966Z",
     "shell.execute_reply": "2024-10-04T22:48:31.764154Z",
     "shell.execute_reply.started": "2024-10-04T22:14:36.016954Z"
    }
   },
   "outputs": [
    {
     "name": "stderr",
     "output_type": "stream",
     "text": [
      "100%|████████████████████████████████████████████████████████████████████████████████████████████████████████████████████████████████████████████████████████| 79/79 [01:09<00:00,  1.13it/s]\n"
     ]
    },
    {
     "name": "stdout",
     "output_type": "stream",
     "text": [
      "Epoch 0 loss 18.387659797185584\n",
      "epoch: 0, accuracy: 0.5859\n"
     ]
    },
    {
     "name": "stderr",
     "output_type": "stream",
     "text": [
      "100%|████████████████████████████████████████████████████████████████████████████████████████████████████████████████████████████████████████████████████████| 79/79 [01:07<00:00,  1.17it/s]\n"
     ]
    },
    {
     "name": "stdout",
     "output_type": "stream",
     "text": [
      "Epoch 1 loss 5.6282502065731\n",
      "epoch: 1, accuracy: 0.6536\n"
     ]
    },
    {
     "name": "stderr",
     "output_type": "stream",
     "text": [
      "100%|████████████████████████████████████████████████████████████████████████████████████████████████████████████████████████████████████████████████████████| 79/79 [01:08<00:00,  1.16it/s]\n"
     ]
    },
    {
     "name": "stdout",
     "output_type": "stream",
     "text": [
      "Epoch 2 loss 4.415335875523241\n",
      "epoch: 2, accuracy: 0.6727\n"
     ]
    },
    {
     "name": "stderr",
     "output_type": "stream",
     "text": [
      "100%|████████████████████████████████████████████████████████████████████████████████████████████████████████████████████████████████████████████████████████| 79/79 [01:08<00:00,  1.15it/s]\n"
     ]
    },
    {
     "name": "stdout",
     "output_type": "stream",
     "text": [
      "Epoch 3 loss 3.386761442015443\n",
      "epoch: 3, accuracy: 0.6863\n"
     ]
    },
    {
     "name": "stderr",
     "output_type": "stream",
     "text": [
      "100%|████████████████████████████████████████████████████████████████████████████████████████████████████████████████████████████████████████████████████████| 79/79 [01:07<00:00,  1.17it/s]\n"
     ]
    },
    {
     "name": "stdout",
     "output_type": "stream",
     "text": [
      "Epoch 4 loss 2.926756378970569\n",
      "epoch: 4, accuracy: 0.6949\n"
     ]
    },
    {
     "name": "stderr",
     "output_type": "stream",
     "text": [
      "100%|████████████████████████████████████████████████████████████████████████████████████████████████████████████████████████████████████████████████████████| 79/79 [01:07<00:00,  1.16it/s]\n"
     ]
    },
    {
     "name": "stdout",
     "output_type": "stream",
     "text": [
      "Epoch 5 loss 2.513647919968714\n",
      "epoch: 5, accuracy: 0.7073\n"
     ]
    },
    {
     "name": "stderr",
     "output_type": "stream",
     "text": [
      "100%|████████████████████████████████████████████████████████████████████████████████████████████████████████████████████████████████████████████████████████| 79/79 [01:07<00:00,  1.16it/s]\n"
     ]
    },
    {
     "name": "stdout",
     "output_type": "stream",
     "text": [
      "Epoch 6 loss 2.4031003743787354\n",
      "epoch: 6, accuracy: 0.7143\n"
     ]
    },
    {
     "name": "stderr",
     "output_type": "stream",
     "text": [
      "100%|████████████████████████████████████████████████████████████████████████████████████████████████████████████████████████████████████████████████████████| 79/79 [01:07<00:00,  1.16it/s]\n"
     ]
    },
    {
     "name": "stdout",
     "output_type": "stream",
     "text": [
      "Epoch 7 loss 2.1824799745897705\n",
      "epoch: 7, accuracy: 0.721\n"
     ]
    },
    {
     "name": "stderr",
     "output_type": "stream",
     "text": [
      "100%|████████████████████████████████████████████████████████████████████████████████████████████████████████████████████████████████████████████████████████| 79/79 [01:07<00:00,  1.17it/s]\n"
     ]
    },
    {
     "name": "stdout",
     "output_type": "stream",
     "text": [
      "Epoch 8 loss 2.0590150054497056\n",
      "epoch: 8, accuracy: 0.7327\n"
     ]
    },
    {
     "name": "stderr",
     "output_type": "stream",
     "text": [
      "100%|████████████████████████████████████████████████████████████████████████████████████████████████████████████████████████████████████████████████████████| 79/79 [01:07<00:00,  1.16it/s]\n"
     ]
    },
    {
     "name": "stdout",
     "output_type": "stream",
     "text": [
      "Epoch 9 loss 1.8784054774272292\n",
      "epoch: 9, accuracy: 0.7364\n"
     ]
    },
    {
     "name": "stderr",
     "output_type": "stream",
     "text": [
      "100%|████████████████████████████████████████████████████████████████████████████████████████████████████████████████████████████████████████████████████████| 79/79 [01:07<00:00,  1.17it/s]\n"
     ]
    },
    {
     "name": "stdout",
     "output_type": "stream",
     "text": [
      "Epoch 10 loss 1.783657184884518\n",
      "epoch: 10, accuracy: 0.7345\n"
     ]
    },
    {
     "name": "stderr",
     "output_type": "stream",
     "text": [
      "100%|████████████████████████████████████████████████████████████████████████████████████████████████████████████████████████████████████████████████████████| 79/79 [01:08<00:00,  1.16it/s]\n"
     ]
    },
    {
     "name": "stdout",
     "output_type": "stream",
     "text": [
      "Epoch 11 loss 1.73890914720825\n",
      "epoch: 11, accuracy: 0.7432\n"
     ]
    },
    {
     "name": "stderr",
     "output_type": "stream",
     "text": [
      "100%|████████████████████████████████████████████████████████████████████████████████████████████████████████████████████████████████████████████████████████| 79/79 [01:07<00:00,  1.17it/s]\n"
     ]
    },
    {
     "name": "stdout",
     "output_type": "stream",
     "text": [
      "Epoch 12 loss 1.6316223091717008\n",
      "epoch: 12, accuracy: 0.748\n"
     ]
    },
    {
     "name": "stderr",
     "output_type": "stream",
     "text": [
      "100%|████████████████████████████████████████████████████████████████████████████████████████████████████████████████████████████████████████████████████████| 79/79 [01:07<00:00,  1.17it/s]\n"
     ]
    },
    {
     "name": "stdout",
     "output_type": "stream",
     "text": [
      "Epoch 13 loss 1.6194067657748354\n",
      "epoch: 13, accuracy: 0.7437\n"
     ]
    },
    {
     "name": "stderr",
     "output_type": "stream",
     "text": [
      "100%|████████████████████████████████████████████████████████████████████████████████████████████████████████████████████████████████████████████████████████| 79/79 [01:07<00:00,  1.16it/s]\n"
     ]
    },
    {
     "name": "stdout",
     "output_type": "stream",
     "text": [
      "Epoch 14 loss 1.5581866646114784\n",
      "epoch: 14, accuracy: 0.7506\n"
     ]
    },
    {
     "name": "stderr",
     "output_type": "stream",
     "text": [
      "100%|████████████████████████████████████████████████████████████████████████████████████████████████████████████████████████████████████████████████████████| 79/79 [01:07<00:00,  1.17it/s]\n"
     ]
    },
    {
     "name": "stdout",
     "output_type": "stream",
     "text": [
      "Epoch 15 loss 1.5343449734434296\n",
      "epoch: 15, accuracy: 0.7536\n"
     ]
    },
    {
     "name": "stderr",
     "output_type": "stream",
     "text": [
      "100%|████████████████████████████████████████████████████████████████████████████████████████████████████████████████████████████████████████████████████████| 79/79 [01:07<00:00,  1.17it/s]\n"
     ]
    },
    {
     "name": "stdout",
     "output_type": "stream",
     "text": [
      "Epoch 16 loss 1.496350941024249\n",
      "epoch: 16, accuracy: 0.7509\n"
     ]
    },
    {
     "name": "stderr",
     "output_type": "stream",
     "text": [
      "100%|████████████████████████████████████████████████████████████████████████████████████████████████████████████████████████████████████████████████████████| 79/79 [01:08<00:00,  1.16it/s]\n"
     ]
    },
    {
     "name": "stdout",
     "output_type": "stream",
     "text": [
      "Epoch 17 loss 1.4066976520079602\n",
      "epoch: 17, accuracy: 0.7612\n"
     ]
    },
    {
     "name": "stderr",
     "output_type": "stream",
     "text": [
      "100%|████████████████████████████████████████████████████████████████████████████████████████████████████████████████████████████████████████████████████████| 79/79 [01:07<00:00,  1.17it/s]\n"
     ]
    },
    {
     "name": "stdout",
     "output_type": "stream",
     "text": [
      "Epoch 18 loss 1.3151285799243781\n",
      "epoch: 18, accuracy: 0.7671\n"
     ]
    },
    {
     "name": "stderr",
     "output_type": "stream",
     "text": [
      "100%|████████████████████████████████████████████████████████████████████████████████████████████████████████████████████████████████████████████████████████| 79/79 [01:07<00:00,  1.17it/s]\n"
     ]
    },
    {
     "name": "stdout",
     "output_type": "stream",
     "text": [
      "Epoch 19 loss 1.299106138793728\n",
      "epoch: 19, accuracy: 0.7703\n"
     ]
    },
    {
     "name": "stderr",
     "output_type": "stream",
     "text": [
      "100%|████████████████████████████████████████████████████████████████████████████████████████████████████████████████████████████████████████████████████████| 79/79 [01:07<00:00,  1.17it/s]\n"
     ]
    },
    {
     "name": "stdout",
     "output_type": "stream",
     "text": [
      "Epoch 20 loss 1.289225245201135\n",
      "epoch: 20, accuracy: 0.7659\n"
     ]
    },
    {
     "name": "stderr",
     "output_type": "stream",
     "text": [
      "100%|████████████████████████████████████████████████████████████████████████████████████████████████████████████████████████████████████████████████████████| 79/79 [01:07<00:00,  1.17it/s]\n"
     ]
    },
    {
     "name": "stdout",
     "output_type": "stream",
     "text": [
      "Epoch 21 loss 1.2386568052859246\n",
      "epoch: 21, accuracy: 0.7724\n"
     ]
    },
    {
     "name": "stderr",
     "output_type": "stream",
     "text": [
      "100%|████████████████████████████████████████████████████████████████████████████████████████████████████████████████████████████████████████████████████████| 79/79 [01:07<00:00,  1.17it/s]\n"
     ]
    },
    {
     "name": "stdout",
     "output_type": "stream",
     "text": [
      "Epoch 22 loss 1.2247650276256512\n",
      "epoch: 22, accuracy: 0.7767\n"
     ]
    },
    {
     "name": "stderr",
     "output_type": "stream",
     "text": [
      "100%|████████████████████████████████████████████████████████████████████████████████████████████████████████████████████████████████████████████████████████| 79/79 [01:06<00:00,  1.18it/s]\n"
     ]
    },
    {
     "name": "stdout",
     "output_type": "stream",
     "text": [
      "Epoch 23 loss 1.1836221021941946\n",
      "epoch: 23, accuracy: 0.7748\n"
     ]
    },
    {
     "name": "stderr",
     "output_type": "stream",
     "text": [
      "100%|████████████████████████████████████████████████████████████████████████████████████████████████████████████████████████████████████████████████████████| 79/79 [01:07<00:00,  1.17it/s]\n"
     ]
    },
    {
     "name": "stdout",
     "output_type": "stream",
     "text": [
      "Epoch 24 loss 1.1540953433966334\n",
      "epoch: 24, accuracy: 0.7811\n"
     ]
    },
    {
     "name": "stderr",
     "output_type": "stream",
     "text": [
      "100%|████████████████████████████████████████████████████████████████████████████████████████████████████████████████████████████████████████████████████████| 79/79 [01:07<00:00,  1.17it/s]\n"
     ]
    },
    {
     "name": "stdout",
     "output_type": "stream",
     "text": [
      "Epoch 25 loss 1.1692512216447275\n",
      "epoch: 25, accuracy: 0.7721\n"
     ]
    },
    {
     "name": "stderr",
     "output_type": "stream",
     "text": [
      "100%|████████████████████████████████████████████████████████████████████████████████████████████████████████████████████████████████████████████████████████| 79/79 [01:07<00:00,  1.17it/s]\n"
     ]
    },
    {
     "name": "stdout",
     "output_type": "stream",
     "text": [
      "Epoch 26 loss 1.13165993252887\n",
      "epoch: 26, accuracy: 0.7789\n"
     ]
    },
    {
     "name": "stderr",
     "output_type": "stream",
     "text": [
      "100%|████████████████████████████████████████████████████████████████████████████████████████████████████████████████████████████████████████████████████████| 79/79 [01:08<00:00,  1.16it/s]\n"
     ]
    },
    {
     "name": "stdout",
     "output_type": "stream",
     "text": [
      "Epoch 27 loss 1.0558659879467156\n",
      "epoch: 27, accuracy: 0.7851\n"
     ]
    },
    {
     "name": "stderr",
     "output_type": "stream",
     "text": [
      "100%|████████████████████████████████████████████████████████████████████████████████████████████████████████████████████████████████████████████████████████| 79/79 [01:08<00:00,  1.16it/s]\n"
     ]
    },
    {
     "name": "stdout",
     "output_type": "stream",
     "text": [
      "Epoch 28 loss 1.072640320922755\n",
      "epoch: 28, accuracy: 0.7787\n"
     ]
    },
    {
     "name": "stderr",
     "output_type": "stream",
     "text": [
      "100%|████████████████████████████████████████████████████████████████████████████████████████████████████████████████████████████████████████████████████████| 79/79 [01:08<00:00,  1.16it/s]"
     ]
    },
    {
     "name": "stdout",
     "output_type": "stream",
     "text": [
      "Epoch 29 loss 1.0657228027717978\n",
      "epoch: 29, accuracy: 0.7833\n"
     ]
    },
    {
     "name": "stderr",
     "output_type": "stream",
     "text": [
      "\n"
     ]
    }
   ],
   "source": [
    "from sklearn.metrics import accuracy_score\n",
    "import warnings\n",
    "warnings.filterwarnings('ignore')\n",
    "\n",
    "def Projector(mlp, embedding):\n",
    "    mlp_spec = f\"{embedding}-{mlp}\"\n",
    "    layers = []\n",
    "    f = list(map(int, mlp_spec.split(\"-\")))\n",
    "    for i in range(len(f) - 2):\n",
    "        layers.append(nn.Linear(f[i], f[i + 1]))\n",
    "        layers.append(nn.BatchNorm1d(f[i + 1]))\n",
    "        layers.append(nn.ReLU())\n",
    "    layers.append(nn.Linear(f[-2], f[-1], bias=False))\n",
    "    return nn.Sequential(*layers)\n",
    "proj = Projector(2, fc_params[-1][0])\n",
    "\n",
    "optimizer = optim.Adam(\n",
    "            [{\"params\": proj.parameters()}, {\"params\": encoder.parameters(), \"lr\": 1e-6}],\n",
    "            lr=1e-4,\n",
    "        )\n",
    "proj.to(device)\n",
    "encoder.to(device)\n",
    "loss = nn.CrossEntropyLoss(reduction=\"mean\")\n",
    "softmax = torch.nn.Softmax(dim=1)\n",
    "\n",
    "encoder.train()\n",
    "proj.train()\n",
    "num_epochs = 30\n",
    "dataloader = DataLoader(dataset, batch_size=128, shuffle=False)\n",
    "\n",
    "for epoch in range(num_epochs):\n",
    "    loss_e = []\n",
    "    predicted_e, correct_e = [], []\n",
    "    for batch in tqdm(dataloader):\n",
    "        optimizer.zero_grad()\n",
    "        x = batch.p4.to(device)\n",
    "        mean_log_e, std_log_e = dataset.stats['part_e_log']\n",
    "        log_e = batch.p4[:, -1, :] * std_log_e + mean_log_e\n",
    "        energy = torch.exp(log_e) * batch.mask\n",
    "        v = torch.cat([batch.p3, energy.view(energy.shape[0], 1, -1)], dim=1).to(device)\n",
    "        mask = batch.mask.view(batch.mask.shape[0], 1, -1).to(device, torch.bool)\n",
    "        y = batch.labels.to(device)\n",
    "        # print(x, v)\n",
    "        reps = encoder(x.to(torch.float32), v.to(torch.float32), mask) # num_ptcls, batch_size, emb_dim\n",
    "        reps = reps.sum(dim=0) # batch_size, emb_dim\n",
    "        out = proj(reps)\n",
    "        batch_loss = loss(out, y.long()).to(device)\n",
    "        batch_loss.backward()\n",
    "        optimizer.step()\n",
    "        batch_loss = batch_loss.detach().cpu().item()\n",
    "        # print(batch_loss)\n",
    "        loss_e.append(batch_loss)\n",
    "        predicted_e.append(softmax(out).cpu().data.numpy())\n",
    "        correct_e.append(y.cpu().data)\n",
    "    print(f\"Epoch {epoch} loss {np.mean(loss_e)}\")\n",
    "    predicted = np.concatenate(predicted_e)\n",
    "    target = np.concatenate(correct_e)\n",
    "\n",
    "    # get the accuracy\n",
    "    accuracy = accuracy_score(target, predicted[:, 1] > 0.5)\n",
    "    print(\n",
    "        \"epoch: \" + str(epoch) + \", accuracy: \" + str(round(accuracy, 5)),\n",
    "    )"
   ]
  },
  {
   "cell_type": "code",
   "execution_count": null,
   "id": "aad275a7-3dc7-4331-b233-a72b26f76ccc",
   "metadata": {},
   "outputs": [],
   "source": []
  }
 ],
 "metadata": {
  "kernelspec": {
   "display_name": "Python 3 (ipykernel)",
   "language": "python",
   "name": "python3"
  },
  "language_info": {
   "codemirror_mode": {
    "name": "ipython",
    "version": 3
   },
   "file_extension": ".py",
   "mimetype": "text/x-python",
   "name": "python",
   "nbconvert_exporter": "python",
   "pygments_lexer": "ipython3",
   "version": "3.11.5"
  }
 },
 "nbformat": 4,
 "nbformat_minor": 5
}
